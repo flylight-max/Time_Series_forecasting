{
 "cells": [
  {
   "cell_type": "markdown",
   "id": "265cc3aa",
   "metadata": {},
   "source": [
    "# **Packages**"
   ]
  },
  {
   "cell_type": "code",
   "execution_count": 102,
   "id": "de2479ad",
   "metadata": {},
   "outputs": [],
   "source": [
    "import pandas as pd\n",
    "import numpy as np\n",
    "import pickle\n",
    "\n",
    "from stores_module import *\n",
    "from recursive_predictions import *\n",
    "from sales_module import *"
   ]
  },
  {
   "cell_type": "markdown",
   "id": "f9827cc5",
   "metadata": {},
   "source": [
    "# **Datasets**"
   ]
  },
  {
   "cell_type": "code",
   "execution_count": 103,
   "id": "30eef0e3",
   "metadata": {},
   "outputs": [],
   "source": [
    "with open(\"AngeliqueFile.pkl\", \"rb\") as f:\n",
    "    transactions = pickle.load(f)"
   ]
  },
  {
   "cell_type": "code",
   "execution_count": 104,
   "id": "4ffde2b1",
   "metadata": {},
   "outputs": [],
   "source": [
    "train_set = pd.read_csv(\"train.csv\")\n",
    "train_set[\"date\"] = pd.to_datetime(train_set[\"date\"])"
   ]
  },
  {
   "cell_type": "code",
   "execution_count": 105,
   "id": "0d787da2",
   "metadata": {},
   "outputs": [],
   "source": [
    "with open(\"transac_sales.pkl\",\"rb\") as f:\n",
    "    transac_sales = pickle.load(f)"
   ]
  },
  {
   "cell_type": "markdown",
   "id": "7ceabedd",
   "metadata": {},
   "source": [
    "# **Prediction transactions**"
   ]
  },
  {
   "cell_type": "code",
   "execution_count": 106,
   "id": "3b0a5f9f",
   "metadata": {},
   "outputs": [],
   "source": [
    "stores_list = list(transactions[\"store_nbr\"].unique())\n"
   ]
  },
  {
   "cell_type": "code",
   "execution_count": 107,
   "id": "986bcca7",
   "metadata": {},
   "outputs": [],
   "source": [
    "stores_test = transactions.loc[transactions[\"date\"] >= \"2017-08-01\",\"date\"].to_frame()\n",
    "stores_test.drop_duplicates(inplace=True, ignore_index=True)"
   ]
  },
  {
   "cell_type": "code",
   "execution_count": 108,
   "id": "98c8bad5",
   "metadata": {},
   "outputs": [],
   "source": [
    "for store in stores_list:\n",
    "    store_df = store_data(store)\n",
    "    no_cat_list = [\"not a national event\",\"Not a Nat holiday\",\"Nope\"]\n",
    "    for col in store_df.columns:\n",
    "        for cat in no_cat_list:\n",
    "            if store_df[col].dtype == \"category\" and cat in store_df[col].cat.categories:\n",
    "                store_df[col] = rename_null_cat(store_df,col,cat)\n",
    "        if store_df[col].dtype == \"category\" and len(store_df[col].cat.categories) == 2:\n",
    "            col_binom = binom_cat_bool(store_df)\n",
    "            col_binom.binom_bool()\n",
    "            store_df.loc[:,col] = col_binom.transform()\n",
    "\n",
    "        elif store_df[col].dtype == \"category\" and len(store_df[col].cat.categories) > 2:\n",
    "            col_Encod = my_labelEncoder()\n",
    "            col_Encod.fit(store_df,col)\n",
    "            store_df[col] = col_Encod.transform(store_df,col)\n",
    "    \n",
    "    _,store_df = frame_time_of_interest(store_df,8) #To generalise we need to precise the month upstream\n",
    "    split_Lagg = SplitLagg(store_df)\n",
    "    split_Lagg.transactions_X()\n",
    "    X_df = split_Lagg.lagg_X(lags=4)\n",
    "    y_df = split_Lagg.lagg_y(lags=4)\n",
    "    X_train,y_train,X_test,y_test,test_y = split_train_test(X_df,y_df,date=\"2017-07-31\")\n",
    "    predictions_store, test_yPred = recurs_Lin_regr(X_train,y_train,X_test,test_y)\n",
    "    if \"store_nbr\" not in stores_test.columns:\n",
    "        stores_test[\"store_nbr\"] = [25] * len(y_test)\n",
    "        stores_test[\"value\"] = y_test.values\n",
    "        stores_test[\"transactions_pred\"] = predictions_store\n",
    "    else:\n",
    "        store_dict = {\"date\": y_test.index, \"store_nbr\": [store] * len(y_test), \"value\": y_test.values, \"transactions_pred\": predictions_store}\n",
    "        store_dict = pd.DataFrame(store_dict)\n",
    "        stores_test = pd.concat([stores_test, store_dict], ignore_index=True, axis=0)\n",
    "    stores_test[\"transactions_pred\"] = stores_test[\"transactions_pred\"].astype(\"int\")"
   ]
  },
  {
   "cell_type": "code",
   "execution_count": 109,
   "id": "1362c75c",
   "metadata": {},
   "outputs": [
    {
     "name": "stdout",
     "output_type": "stream",
     "text": [
      "<class 'pandas.core.frame.DataFrame'>\n",
      "RangeIndex: 810 entries, 0 to 809\n",
      "Data columns (total 4 columns):\n",
      " #   Column             Non-Null Count  Dtype         \n",
      "---  ------             --------------  -----         \n",
      " 0   date               810 non-null    datetime64[ns]\n",
      " 1   store_nbr          810 non-null    int64         \n",
      " 2   value              810 non-null    int64         \n",
      " 3   transactions_pred  810 non-null    int32         \n",
      "dtypes: datetime64[ns](1), int32(1), int64(2)\n",
      "memory usage: 22.3 KB\n"
     ]
    }
   ],
   "source": [
    "stores_test.info()"
   ]
  },
  {
   "cell_type": "code",
   "execution_count": 110,
   "id": "6a53efab",
   "metadata": {},
   "outputs": [
    {
     "data": {
      "text/html": [
       "<div>\n",
       "<style scoped>\n",
       "    .dataframe tbody tr th:only-of-type {\n",
       "        vertical-align: middle;\n",
       "    }\n",
       "\n",
       "    .dataframe tbody tr th {\n",
       "        vertical-align: top;\n",
       "    }\n",
       "\n",
       "    .dataframe thead th {\n",
       "        text-align: right;\n",
       "    }\n",
       "</style>\n",
       "<table border=\"1\" class=\"dataframe\">\n",
       "  <thead>\n",
       "    <tr style=\"text-align: right;\">\n",
       "      <th></th>\n",
       "      <th>date</th>\n",
       "      <th>store_nbr</th>\n",
       "      <th>value</th>\n",
       "      <th>transactions_pred</th>\n",
       "    </tr>\n",
       "  </thead>\n",
       "  <tbody>\n",
       "    <tr>\n",
       "      <th>795</th>\n",
       "      <td>2017-08-01</td>\n",
       "      <td>52</td>\n",
       "      <td>2147</td>\n",
       "      <td>1905</td>\n",
       "    </tr>\n",
       "    <tr>\n",
       "      <th>796</th>\n",
       "      <td>2017-08-02</td>\n",
       "      <td>52</td>\n",
       "      <td>2499</td>\n",
       "      <td>1975</td>\n",
       "    </tr>\n",
       "    <tr>\n",
       "      <th>797</th>\n",
       "      <td>2017-08-03</td>\n",
       "      <td>52</td>\n",
       "      <td>2045</td>\n",
       "      <td>1783</td>\n",
       "    </tr>\n",
       "    <tr>\n",
       "      <th>798</th>\n",
       "      <td>2017-08-04</td>\n",
       "      <td>52</td>\n",
       "      <td>2442</td>\n",
       "      <td>2125</td>\n",
       "    </tr>\n",
       "    <tr>\n",
       "      <th>799</th>\n",
       "      <td>2017-08-05</td>\n",
       "      <td>52</td>\n",
       "      <td>2837</td>\n",
       "      <td>2765</td>\n",
       "    </tr>\n",
       "    <tr>\n",
       "      <th>800</th>\n",
       "      <td>2017-08-06</td>\n",
       "      <td>52</td>\n",
       "      <td>2711</td>\n",
       "      <td>2599</td>\n",
       "    </tr>\n",
       "    <tr>\n",
       "      <th>801</th>\n",
       "      <td>2017-08-07</td>\n",
       "      <td>52</td>\n",
       "      <td>2152</td>\n",
       "      <td>1829</td>\n",
       "    </tr>\n",
       "    <tr>\n",
       "      <th>802</th>\n",
       "      <td>2017-08-08</td>\n",
       "      <td>52</td>\n",
       "      <td>1997</td>\n",
       "      <td>1644</td>\n",
       "    </tr>\n",
       "    <tr>\n",
       "      <th>803</th>\n",
       "      <td>2017-08-09</td>\n",
       "      <td>52</td>\n",
       "      <td>2300</td>\n",
       "      <td>1820</td>\n",
       "    </tr>\n",
       "    <tr>\n",
       "      <th>804</th>\n",
       "      <td>2017-08-10</td>\n",
       "      <td>52</td>\n",
       "      <td>2165</td>\n",
       "      <td>3621</td>\n",
       "    </tr>\n",
       "    <tr>\n",
       "      <th>805</th>\n",
       "      <td>2017-08-11</td>\n",
       "      <td>52</td>\n",
       "      <td>2957</td>\n",
       "      <td>2802</td>\n",
       "    </tr>\n",
       "    <tr>\n",
       "      <th>806</th>\n",
       "      <td>2017-08-12</td>\n",
       "      <td>52</td>\n",
       "      <td>2804</td>\n",
       "      <td>2733</td>\n",
       "    </tr>\n",
       "    <tr>\n",
       "      <th>807</th>\n",
       "      <td>2017-08-13</td>\n",
       "      <td>52</td>\n",
       "      <td>2433</td>\n",
       "      <td>2176</td>\n",
       "    </tr>\n",
       "    <tr>\n",
       "      <th>808</th>\n",
       "      <td>2017-08-14</td>\n",
       "      <td>52</td>\n",
       "      <td>2074</td>\n",
       "      <td>1180</td>\n",
       "    </tr>\n",
       "    <tr>\n",
       "      <th>809</th>\n",
       "      <td>2017-08-15</td>\n",
       "      <td>52</td>\n",
       "      <td>2255</td>\n",
       "      <td>1495</td>\n",
       "    </tr>\n",
       "  </tbody>\n",
       "</table>\n",
       "</div>"
      ],
      "text/plain": [
       "          date  store_nbr  value  transactions_pred\n",
       "795 2017-08-01         52   2147               1905\n",
       "796 2017-08-02         52   2499               1975\n",
       "797 2017-08-03         52   2045               1783\n",
       "798 2017-08-04         52   2442               2125\n",
       "799 2017-08-05         52   2837               2765\n",
       "800 2017-08-06         52   2711               2599\n",
       "801 2017-08-07         52   2152               1829\n",
       "802 2017-08-08         52   1997               1644\n",
       "803 2017-08-09         52   2300               1820\n",
       "804 2017-08-10         52   2165               3621\n",
       "805 2017-08-11         52   2957               2802\n",
       "806 2017-08-12         52   2804               2733\n",
       "807 2017-08-13         52   2433               2176\n",
       "808 2017-08-14         52   2074               1180\n",
       "809 2017-08-15         52   2255               1495"
      ]
     },
     "execution_count": 110,
     "metadata": {},
     "output_type": "execute_result"
    }
   ],
   "source": [
    "stores_test_52 = stores_test.loc[stores_test[\"store_nbr\"] == 52]\n",
    "stores_test_52"
   ]
  },
  {
   "cell_type": "markdown",
   "id": "7e59d970",
   "metadata": {},
   "source": [
    "# **Preprocessing**"
   ]
  },
  {
   "cell_type": "code",
   "execution_count": 111,
   "id": "c063b01f",
   "metadata": {},
   "outputs": [],
   "source": [
    "train = train_set[train_set[\"date\"] <\"2017-08-01\"].copy()\n",
    "test = train_set[train_set[\"date\"] >= \"2017-08-01\"].copy()"
   ]
  },
  {
   "cell_type": "code",
   "execution_count": 112,
   "id": "d7bcf03e",
   "metadata": {},
   "outputs": [
    {
     "data": {
      "text/plain": [
       "Timestamp('2013-01-01 00:00:00')"
      ]
     },
     "execution_count": 112,
     "metadata": {},
     "output_type": "execute_result"
    }
   ],
   "source": [
    "transactions[\"date\"].min()"
   ]
  },
  {
   "cell_type": "code",
   "execution_count": 113,
   "id": "8a3a76f2",
   "metadata": {},
   "outputs": [],
   "source": [
    "transactions_train = transactions[transactions[\"date\"] < \"2017-08-01\"].copy()\n",
    "train = train.merge(transactions_train[[\"date\",\"transactions\",\"store_nbr\"]], \\\n",
    "                    on=[\"date\",\"store_nbr\"], how=\"left\", validate=\"many_to_one\")"
   ]
  },
  {
   "cell_type": "code",
   "execution_count": 114,
   "id": "3ed51b3c",
   "metadata": {},
   "outputs": [
    {
     "data": {
      "text/plain": [
       "id                   0\n",
       "date                 0\n",
       "store_nbr            0\n",
       "family               0\n",
       "sales                0\n",
       "onpromotion          0\n",
       "transactions    245784\n",
       "dtype: int64"
      ]
     },
     "execution_count": 114,
     "metadata": {},
     "output_type": "execute_result"
    }
   ],
   "source": [
    "train.isna().sum()"
   ]
  },
  {
   "cell_type": "code",
   "execution_count": 115,
   "id": "8c04f373",
   "metadata": {},
   "outputs": [],
   "source": [
    "train.fillna(0, inplace=True)"
   ]
  },
  {
   "cell_type": "code",
   "execution_count": 116,
   "id": "c7b3cf52",
   "metadata": {},
   "outputs": [],
   "source": [
    "test = test.merge(stores_test[[\"date\",\"store_nbr\", \"transactions_pred\"]], \\\n",
    "                  on=[\"date\",\"store_nbr\"], how=\"left\", validate=\"many_to_one\")"
   ]
  },
  {
   "cell_type": "code",
   "execution_count": 117,
   "id": "cb8a9052",
   "metadata": {},
   "outputs": [],
   "source": [
    "test[\"transactions\"] = test[\"transactions_pred\"]\n",
    "test.drop(\"transactions_pred\", axis=1, inplace=True)"
   ]
  },
  {
   "cell_type": "code",
   "execution_count": 118,
   "id": "1f73d05f",
   "metadata": {},
   "outputs": [
    {
     "data": {
      "text/plain": [
       "id              0\n",
       "date            0\n",
       "store_nbr       0\n",
       "family          0\n",
       "sales           0\n",
       "onpromotion     0\n",
       "transactions    0\n",
       "dtype: int64"
      ]
     },
     "execution_count": 118,
     "metadata": {},
     "output_type": "execute_result"
    }
   ],
   "source": [
    "test.isna().sum()"
   ]
  },
  {
   "cell_type": "code",
   "execution_count": 119,
   "id": "ca53de4b",
   "metadata": {},
   "outputs": [
    {
     "data": {
      "text/plain": [
       "id              0\n",
       "date            0\n",
       "store_nbr       0\n",
       "family          0\n",
       "sales           0\n",
       "onpromotion     0\n",
       "transactions    0\n",
       "dtype: int64"
      ]
     },
     "execution_count": 119,
     "metadata": {},
     "output_type": "execute_result"
    }
   ],
   "source": [
    "train.isna().sum()"
   ]
  },
  {
   "cell_type": "code",
   "execution_count": 120,
   "id": "2d822087",
   "metadata": {},
   "outputs": [],
   "source": [
    "sales = pd.concat([train,test], axis=0)"
   ]
  },
  {
   "cell_type": "code",
   "execution_count": 121,
   "id": "c4a9b731",
   "metadata": {},
   "outputs": [
    {
     "name": "stdout",
     "output_type": "stream",
     "text": [
      "<class 'pandas.core.frame.DataFrame'>\n",
      "Index: 3000888 entries, 0 to 26729\n",
      "Data columns (total 7 columns):\n",
      " #   Column        Dtype         \n",
      "---  ------        -----         \n",
      " 0   id            int64         \n",
      " 1   date          datetime64[ns]\n",
      " 2   store_nbr     int64         \n",
      " 3   family        object        \n",
      " 4   sales         float64       \n",
      " 5   onpromotion   int64         \n",
      " 6   transactions  float64       \n",
      "dtypes: datetime64[ns](1), float64(2), int64(3), object(1)\n",
      "memory usage: 183.2+ MB\n"
     ]
    }
   ],
   "source": [
    "sales.info()"
   ]
  },
  {
   "cell_type": "markdown",
   "id": "85173722",
   "metadata": {},
   "source": [
    "## **Adding events and holidays**"
   ]
  },
  {
   "cell_type": "code",
   "execution_count": 122,
   "id": "1136a1a2",
   "metadata": {},
   "outputs": [],
   "source": [
    "holid_transac = transactions_cat()"
   ]
  },
  {
   "cell_type": "code",
   "execution_count": 123,
   "id": "ca3c3af4",
   "metadata": {},
   "outputs": [
    {
     "name": "stdout",
     "output_type": "stream",
     "text": [
      "<class 'pandas.core.frame.DataFrame'>\n",
      "RangeIndex: 83488 entries, 0 to 83487\n",
      "Data columns (total 21 columns):\n",
      " #   Column                      Non-Null Count  Dtype         \n",
      "---  ------                      --------------  -----         \n",
      " 0   date                        83488 non-null  datetime64[ns]\n",
      " 1   store_nbr                   83488 non-null  int64         \n",
      " 2   transactions                83488 non-null  int64         \n",
      " 3   National Event              83488 non-null  Int64         \n",
      " 4   National holiday            83488 non-null  Int64         \n",
      " 5   National period of holiday  83488 non-null  Int64         \n",
      " 6   National Workday            83488 non-null  int32         \n",
      " 7   city                        83488 non-null  Int64         \n",
      " 8   state                       83488 non-null  Int64         \n",
      " 9   type                        83488 non-null  Int64         \n",
      " 10  cluster                     83488 non-null  int64         \n",
      " 11  Local Holiday               83488 non-null  int32         \n",
      " 12  Regional Holiday            83488 non-null  int32         \n",
      " 13  Workday                     83488 non-null  int32         \n",
      " 14  Transfer                    83488 non-null  int32         \n",
      " 15  id                          83488 non-null  int64         \n",
      " 16  sales                       83488 non-null  float64       \n",
      " 17  onpromotion                 83488 non-null  int64         \n",
      " 18  dcoilwtico                  83488 non-null  float64       \n",
      " 19  weekday                     83488 non-null  int32         \n",
      " 20  payday                      83488 non-null  int32         \n",
      "dtypes: Int64(6), datetime64[ns](1), float64(2), int32(7), int64(5)\n",
      "memory usage: 11.6 MB\n"
     ]
    }
   ],
   "source": [
    "holid_transac.info()"
   ]
  },
  {
   "cell_type": "code",
   "execution_count": 124,
   "id": "df0af136",
   "metadata": {},
   "outputs": [
    {
     "data": {
      "text/plain": [
       "Timestamp('2013-01-01 00:00:00')"
      ]
     },
     "execution_count": 124,
     "metadata": {},
     "output_type": "execute_result"
    }
   ],
   "source": [
    "sales[\"date\"].min()"
   ]
  },
  {
   "cell_type": "code",
   "execution_count": 125,
   "id": "fae029e7",
   "metadata": {},
   "outputs": [],
   "source": [
    "sales = sales.merge(holid_transac[[\"date\",\"store_nbr\", \"payday\",\"Local Holiday\",\"Regional Holiday\",\"Workday\",\"National Workday\", \"National Event\",\"National holiday\",\\\n",
    "                                   \"National period of holiday\",\"Transfer\"]],\\\n",
    "                                    on=[\"date\",\"store_nbr\"], how=\"left\", validate=\"many_to_one\")"
   ]
  },
  {
   "cell_type": "code",
   "execution_count": 126,
   "id": "757e5903",
   "metadata": {},
   "outputs": [
    {
     "data": {
      "text/plain": [
       "id                                 0\n",
       "date                               0\n",
       "store_nbr                          0\n",
       "family                             0\n",
       "sales                              0\n",
       "onpromotion                        0\n",
       "transactions                       0\n",
       "payday                        245784\n",
       "Local Holiday                 245784\n",
       "Regional Holiday              245784\n",
       "Workday                       245784\n",
       "National Workday              245784\n",
       "National Event                245784\n",
       "National holiday              245784\n",
       "National period of holiday    245784\n",
       "Transfer                      245784\n",
       "dtype: int64"
      ]
     },
     "execution_count": 126,
     "metadata": {},
     "output_type": "execute_result"
    }
   ],
   "source": [
    "sales.isna().sum()"
   ]
  },
  {
   "cell_type": "code",
   "execution_count": 127,
   "id": "13c1929f",
   "metadata": {},
   "outputs": [],
   "source": [
    "missing_vals = sales[sales[\"Local Holiday\"].isna()].copy()\n",
    "dates_missing = list(missing_vals[\"date\"].unique())"
   ]
  },
  {
   "cell_type": "code",
   "execution_count": 128,
   "id": "77541fac",
   "metadata": {},
   "outputs": [
    {
     "data": {
      "text/plain": [
       "count    245784.0\n",
       "mean          0.0\n",
       "std           0.0\n",
       "min           0.0\n",
       "25%           0.0\n",
       "50%           0.0\n",
       "75%           0.0\n",
       "max           0.0\n",
       "Name: transactions, dtype: float64"
      ]
     },
     "execution_count": 128,
     "metadata": {},
     "output_type": "execute_result"
    }
   ],
   "source": [
    "missing_vals[\"transactions\"].describe()"
   ]
  },
  {
   "cell_type": "code",
   "execution_count": 129,
   "id": "4c057833",
   "metadata": {},
   "outputs": [],
   "source": [
    "cols_to_fill = [\"payday\",\"Local Holiday\",\"Regional Holiday\",\"Workday\",\"National Workday\",\"National Event\",\"National holiday\",\\\n",
    "                                                                        \"National period of holiday\",\"Transfer\"]\n",
    "for date in dates_missing:\n",
    "    ref_row = sales[(sales[\"date\"] == date)&(sales[\"transactions\"] != 0)]\n",
    "    if not ref_row.empty:\n",
    "        ref_values = ref_row.iloc[0][cols_to_fill]\n",
    "        sales.loc[(sales[\"date\"] == date)&(sales[\"transactions\"] == 0), cols_to_fill] = ref_values.values"
   ]
  },
  {
   "cell_type": "code",
   "execution_count": 130,
   "id": "8c19c65b",
   "metadata": {},
   "outputs": [
    {
     "data": {
      "text/plain": [
       "id                               0\n",
       "date                             0\n",
       "store_nbr                        0\n",
       "family                           0\n",
       "sales                            0\n",
       "onpromotion                      0\n",
       "transactions                     0\n",
       "payday                        3564\n",
       "Local Holiday                 3564\n",
       "Regional Holiday              3564\n",
       "Workday                       3564\n",
       "National Workday              3564\n",
       "National Event                3564\n",
       "National holiday              3564\n",
       "National period of holiday    3564\n",
       "Transfer                      3564\n",
       "dtype: int64"
      ]
     },
     "execution_count": 130,
     "metadata": {},
     "output_type": "execute_result"
    }
   ],
   "source": [
    "sales.isna().sum()"
   ]
  },
  {
   "cell_type": "code",
   "execution_count": 131,
   "id": "83808d7e",
   "metadata": {},
   "outputs": [
    {
     "data": {
      "text/plain": [
       "<DatetimeArray>\n",
       "['2016-01-01 00:00:00', '2016-01-03 00:00:00']\n",
       "Length: 2, dtype: datetime64[ns]"
      ]
     },
     "execution_count": 131,
     "metadata": {},
     "output_type": "execute_result"
    }
   ],
   "source": [
    "sales.loc[sales[\"Local Holiday\"].isna(),\"date\"].unique()"
   ]
  },
  {
   "cell_type": "code",
   "execution_count": 132,
   "id": "d089363a",
   "metadata": {},
   "outputs": [
    {
     "data": {
      "text/plain": [
       "count    3564.0\n",
       "mean        0.0\n",
       "std         0.0\n",
       "min         0.0\n",
       "25%         0.0\n",
       "50%         0.0\n",
       "75%         0.0\n",
       "max         0.0\n",
       "Name: transactions, dtype: float64"
      ]
     },
     "execution_count": 132,
     "metadata": {},
     "output_type": "execute_result"
    }
   ],
   "source": [
    "sales.loc[sales[\"Local Holiday\"].isna(),\"transactions\"].describe()"
   ]
  },
  {
   "cell_type": "code",
   "execution_count": 133,
   "id": "b47237e9",
   "metadata": {},
   "outputs": [
    {
     "name": "stdout",
     "output_type": "stream",
     "text": [
      "<class 'pandas.core.frame.DataFrame'>\n",
      "RangeIndex: 3000888 entries, 0 to 3000887\n",
      "Data columns (total 16 columns):\n",
      " #   Column                      Dtype         \n",
      "---  ------                      -----         \n",
      " 0   id                          int64         \n",
      " 1   date                        datetime64[ns]\n",
      " 2   store_nbr                   int64         \n",
      " 3   family                      object        \n",
      " 4   sales                       float64       \n",
      " 5   onpromotion                 int64         \n",
      " 6   transactions                float64       \n",
      " 7   payday                      float64       \n",
      " 8   Local Holiday               float64       \n",
      " 9   Regional Holiday            float64       \n",
      " 10  Workday                     float64       \n",
      " 11  National Workday            float64       \n",
      " 12  National Event              Int64         \n",
      " 13  National holiday            Int64         \n",
      " 14  National period of holiday  Int64         \n",
      " 15  Transfer                    float64       \n",
      "dtypes: Int64(3), datetime64[ns](1), float64(8), int64(3), object(1)\n",
      "memory usage: 374.9+ MB\n"
     ]
    }
   ],
   "source": [
    "sales.info()"
   ]
  },
  {
   "cell_type": "code",
   "execution_count": 134,
   "id": "3ca0396d",
   "metadata": {},
   "outputs": [
    {
     "name": "stderr",
     "output_type": "stream",
     "text": [
      "C:\\Users\\Angelique\\AppData\\Local\\Temp\\ipykernel_5744\\1626311016.py:1: FutureWarning: The behavior of 'isin' with dtype=datetime64[ns] and castable values (e.g. strings) is deprecated. In a future version, these will not be considered matching by isin. Explicitly cast to the appropriate dtype before calling isin instead.\n",
      "  sales.drop(sales.loc[sales[\"date\"].isin([\"2016-01-01\",\"2016-01-03\"])].index, axis=0, inplace=True)\n"
     ]
    }
   ],
   "source": [
    "sales.drop(sales.loc[sales[\"date\"].isin([\"2016-01-01\",\"2016-01-03\"])].index, axis=0, inplace=True)"
   ]
  },
  {
   "cell_type": "code",
   "execution_count": 135,
   "id": "40c852cb",
   "metadata": {},
   "outputs": [
    {
     "data": {
      "text/plain": [
       "id                            0\n",
       "date                          0\n",
       "store_nbr                     0\n",
       "family                        0\n",
       "sales                         0\n",
       "onpromotion                   0\n",
       "transactions                  0\n",
       "payday                        0\n",
       "Local Holiday                 0\n",
       "Regional Holiday              0\n",
       "Workday                       0\n",
       "National Workday              0\n",
       "National Event                0\n",
       "National holiday              0\n",
       "National period of holiday    0\n",
       "Transfer                      0\n",
       "dtype: int64"
      ]
     },
     "execution_count": 135,
     "metadata": {},
     "output_type": "execute_result"
    }
   ],
   "source": [
    "sales.isna().sum()"
   ]
  },
  {
   "cell_type": "code",
   "execution_count": 136,
   "id": "410c5934",
   "metadata": {},
   "outputs": [
    {
     "name": "stdout",
     "output_type": "stream",
     "text": [
      "<class 'pandas.core.frame.DataFrame'>\n",
      "Index: 2997324 entries, 0 to 3000887\n",
      "Data columns (total 16 columns):\n",
      " #   Column                      Dtype         \n",
      "---  ------                      -----         \n",
      " 0   id                          int64         \n",
      " 1   date                        datetime64[ns]\n",
      " 2   store_nbr                   int64         \n",
      " 3   family                      object        \n",
      " 4   sales                       float64       \n",
      " 5   onpromotion                 int64         \n",
      " 6   transactions                float64       \n",
      " 7   payday                      float64       \n",
      " 8   Local Holiday               float64       \n",
      " 9   Regional Holiday            float64       \n",
      " 10  Workday                     float64       \n",
      " 11  National Workday            float64       \n",
      " 12  National Event              Int64         \n",
      " 13  National holiday            Int64         \n",
      " 14  National period of holiday  Int64         \n",
      " 15  Transfer                    float64       \n",
      "dtypes: Int64(3), datetime64[ns](1), float64(8), int64(3), object(1)\n",
      "memory usage: 397.3+ MB\n"
     ]
    }
   ],
   "source": [
    "sales.info()"
   ]
  },
  {
   "cell_type": "code",
   "execution_count": 137,
   "id": "4e791dad",
   "metadata": {},
   "outputs": [
    {
     "data": {
      "text/plain": [
       "id                            0\n",
       "date                          0\n",
       "store_nbr                     0\n",
       "family                        0\n",
       "sales                         0\n",
       "onpromotion                   0\n",
       "transactions                  0\n",
       "payday                        0\n",
       "Local Holiday                 0\n",
       "Regional Holiday              0\n",
       "Workday                       0\n",
       "National Workday              0\n",
       "National Event                0\n",
       "National holiday              0\n",
       "National period of holiday    0\n",
       "Transfer                      0\n",
       "dtype: int64"
      ]
     },
     "execution_count": 137,
     "metadata": {},
     "output_type": "execute_result"
    }
   ],
   "source": [
    "sales.isna().sum()"
   ]
  },
  {
   "cell_type": "code",
   "execution_count": 138,
   "id": "209f7269",
   "metadata": {},
   "outputs": [
    {
     "data": {
      "text/html": [
       "<div>\n",
       "<style scoped>\n",
       "    .dataframe tbody tr th:only-of-type {\n",
       "        vertical-align: middle;\n",
       "    }\n",
       "\n",
       "    .dataframe tbody tr th {\n",
       "        vertical-align: top;\n",
       "    }\n",
       "\n",
       "    .dataframe thead th {\n",
       "        text-align: right;\n",
       "    }\n",
       "</style>\n",
       "<table border=\"1\" class=\"dataframe\">\n",
       "  <thead>\n",
       "    <tr style=\"text-align: right;\">\n",
       "      <th></th>\n",
       "      <th>id</th>\n",
       "      <th>date</th>\n",
       "      <th>store_nbr</th>\n",
       "      <th>family</th>\n",
       "      <th>sales</th>\n",
       "      <th>onpromotion</th>\n",
       "      <th>transactions</th>\n",
       "      <th>payday</th>\n",
       "      <th>Local Holiday</th>\n",
       "      <th>Regional Holiday</th>\n",
       "      <th>Workday</th>\n",
       "      <th>National Workday</th>\n",
       "      <th>National Event</th>\n",
       "      <th>National holiday</th>\n",
       "      <th>National period of holiday</th>\n",
       "      <th>Transfer</th>\n",
       "    </tr>\n",
       "  </thead>\n",
       "  <tbody>\n",
       "    <tr>\n",
       "      <th>2975709</th>\n",
       "      <td>2975709</td>\n",
       "      <td>2017-08-01</td>\n",
       "      <td>52</td>\n",
       "      <td>AUTOMOTIVE</td>\n",
       "      <td>5.0</td>\n",
       "      <td>0</td>\n",
       "      <td>1905.0</td>\n",
       "      <td>0.0</td>\n",
       "      <td>0.0</td>\n",
       "      <td>0.0</td>\n",
       "      <td>0.0</td>\n",
       "      <td>0.0</td>\n",
       "      <td>0</td>\n",
       "      <td>0</td>\n",
       "      <td>0</td>\n",
       "      <td>0.0</td>\n",
       "    </tr>\n",
       "    <tr>\n",
       "      <th>2977491</th>\n",
       "      <td>2977491</td>\n",
       "      <td>2017-08-02</td>\n",
       "      <td>52</td>\n",
       "      <td>AUTOMOTIVE</td>\n",
       "      <td>19.0</td>\n",
       "      <td>0</td>\n",
       "      <td>1975.0</td>\n",
       "      <td>0.0</td>\n",
       "      <td>0.0</td>\n",
       "      <td>0.0</td>\n",
       "      <td>0.0</td>\n",
       "      <td>0.0</td>\n",
       "      <td>0</td>\n",
       "      <td>0</td>\n",
       "      <td>0</td>\n",
       "      <td>0.0</td>\n",
       "    </tr>\n",
       "    <tr>\n",
       "      <th>2979273</th>\n",
       "      <td>2979273</td>\n",
       "      <td>2017-08-03</td>\n",
       "      <td>52</td>\n",
       "      <td>AUTOMOTIVE</td>\n",
       "      <td>19.0</td>\n",
       "      <td>0</td>\n",
       "      <td>1783.0</td>\n",
       "      <td>0.0</td>\n",
       "      <td>0.0</td>\n",
       "      <td>0.0</td>\n",
       "      <td>0.0</td>\n",
       "      <td>0.0</td>\n",
       "      <td>0</td>\n",
       "      <td>0</td>\n",
       "      <td>0</td>\n",
       "      <td>0.0</td>\n",
       "    </tr>\n",
       "    <tr>\n",
       "      <th>2981055</th>\n",
       "      <td>2981055</td>\n",
       "      <td>2017-08-04</td>\n",
       "      <td>52</td>\n",
       "      <td>AUTOMOTIVE</td>\n",
       "      <td>9.0</td>\n",
       "      <td>0</td>\n",
       "      <td>2125.0</td>\n",
       "      <td>0.0</td>\n",
       "      <td>0.0</td>\n",
       "      <td>0.0</td>\n",
       "      <td>0.0</td>\n",
       "      <td>0.0</td>\n",
       "      <td>0</td>\n",
       "      <td>0</td>\n",
       "      <td>0</td>\n",
       "      <td>0.0</td>\n",
       "    </tr>\n",
       "    <tr>\n",
       "      <th>2982837</th>\n",
       "      <td>2982837</td>\n",
       "      <td>2017-08-05</td>\n",
       "      <td>52</td>\n",
       "      <td>AUTOMOTIVE</td>\n",
       "      <td>15.0</td>\n",
       "      <td>0</td>\n",
       "      <td>2765.0</td>\n",
       "      <td>0.0</td>\n",
       "      <td>0.0</td>\n",
       "      <td>0.0</td>\n",
       "      <td>0.0</td>\n",
       "      <td>0.0</td>\n",
       "      <td>0</td>\n",
       "      <td>0</td>\n",
       "      <td>0</td>\n",
       "      <td>0.0</td>\n",
       "    </tr>\n",
       "    <tr>\n",
       "      <th>2984619</th>\n",
       "      <td>2984619</td>\n",
       "      <td>2017-08-06</td>\n",
       "      <td>52</td>\n",
       "      <td>AUTOMOTIVE</td>\n",
       "      <td>24.0</td>\n",
       "      <td>0</td>\n",
       "      <td>2599.0</td>\n",
       "      <td>0.0</td>\n",
       "      <td>0.0</td>\n",
       "      <td>0.0</td>\n",
       "      <td>0.0</td>\n",
       "      <td>0.0</td>\n",
       "      <td>0</td>\n",
       "      <td>0</td>\n",
       "      <td>0</td>\n",
       "      <td>0.0</td>\n",
       "    </tr>\n",
       "    <tr>\n",
       "      <th>2986401</th>\n",
       "      <td>2986401</td>\n",
       "      <td>2017-08-07</td>\n",
       "      <td>52</td>\n",
       "      <td>AUTOMOTIVE</td>\n",
       "      <td>5.0</td>\n",
       "      <td>0</td>\n",
       "      <td>1829.0</td>\n",
       "      <td>0.0</td>\n",
       "      <td>0.0</td>\n",
       "      <td>0.0</td>\n",
       "      <td>0.0</td>\n",
       "      <td>0.0</td>\n",
       "      <td>0</td>\n",
       "      <td>0</td>\n",
       "      <td>0</td>\n",
       "      <td>0.0</td>\n",
       "    </tr>\n",
       "    <tr>\n",
       "      <th>2988183</th>\n",
       "      <td>2988183</td>\n",
       "      <td>2017-08-08</td>\n",
       "      <td>52</td>\n",
       "      <td>AUTOMOTIVE</td>\n",
       "      <td>8.0</td>\n",
       "      <td>0</td>\n",
       "      <td>1644.0</td>\n",
       "      <td>0.0</td>\n",
       "      <td>0.0</td>\n",
       "      <td>0.0</td>\n",
       "      <td>0.0</td>\n",
       "      <td>0.0</td>\n",
       "      <td>0</td>\n",
       "      <td>0</td>\n",
       "      <td>0</td>\n",
       "      <td>0.0</td>\n",
       "    </tr>\n",
       "    <tr>\n",
       "      <th>2989965</th>\n",
       "      <td>2989965</td>\n",
       "      <td>2017-08-09</td>\n",
       "      <td>52</td>\n",
       "      <td>AUTOMOTIVE</td>\n",
       "      <td>11.0</td>\n",
       "      <td>0</td>\n",
       "      <td>1820.0</td>\n",
       "      <td>0.0</td>\n",
       "      <td>0.0</td>\n",
       "      <td>0.0</td>\n",
       "      <td>0.0</td>\n",
       "      <td>0.0</td>\n",
       "      <td>0</td>\n",
       "      <td>0</td>\n",
       "      <td>0</td>\n",
       "      <td>0.0</td>\n",
       "    </tr>\n",
       "    <tr>\n",
       "      <th>2991747</th>\n",
       "      <td>2991747</td>\n",
       "      <td>2017-08-10</td>\n",
       "      <td>52</td>\n",
       "      <td>AUTOMOTIVE</td>\n",
       "      <td>7.0</td>\n",
       "      <td>0</td>\n",
       "      <td>3621.0</td>\n",
       "      <td>0.0</td>\n",
       "      <td>0.0</td>\n",
       "      <td>0.0</td>\n",
       "      <td>0.0</td>\n",
       "      <td>0.0</td>\n",
       "      <td>0</td>\n",
       "      <td>7</td>\n",
       "      <td>0</td>\n",
       "      <td>0.0</td>\n",
       "    </tr>\n",
       "    <tr>\n",
       "      <th>2993529</th>\n",
       "      <td>2993529</td>\n",
       "      <td>2017-08-11</td>\n",
       "      <td>52</td>\n",
       "      <td>AUTOMOTIVE</td>\n",
       "      <td>17.0</td>\n",
       "      <td>0</td>\n",
       "      <td>2802.0</td>\n",
       "      <td>0.0</td>\n",
       "      <td>0.0</td>\n",
       "      <td>0.0</td>\n",
       "      <td>0.0</td>\n",
       "      <td>0.0</td>\n",
       "      <td>0</td>\n",
       "      <td>0</td>\n",
       "      <td>0</td>\n",
       "      <td>1.0</td>\n",
       "    </tr>\n",
       "    <tr>\n",
       "      <th>2995311</th>\n",
       "      <td>2995311</td>\n",
       "      <td>2017-08-12</td>\n",
       "      <td>52</td>\n",
       "      <td>AUTOMOTIVE</td>\n",
       "      <td>13.0</td>\n",
       "      <td>0</td>\n",
       "      <td>2733.0</td>\n",
       "      <td>0.0</td>\n",
       "      <td>0.0</td>\n",
       "      <td>0.0</td>\n",
       "      <td>0.0</td>\n",
       "      <td>0.0</td>\n",
       "      <td>0</td>\n",
       "      <td>0</td>\n",
       "      <td>0</td>\n",
       "      <td>0.0</td>\n",
       "    </tr>\n",
       "    <tr>\n",
       "      <th>2997093</th>\n",
       "      <td>2997093</td>\n",
       "      <td>2017-08-13</td>\n",
       "      <td>52</td>\n",
       "      <td>AUTOMOTIVE</td>\n",
       "      <td>21.0</td>\n",
       "      <td>0</td>\n",
       "      <td>2176.0</td>\n",
       "      <td>0.0</td>\n",
       "      <td>0.0</td>\n",
       "      <td>0.0</td>\n",
       "      <td>0.0</td>\n",
       "      <td>0.0</td>\n",
       "      <td>0</td>\n",
       "      <td>0</td>\n",
       "      <td>0</td>\n",
       "      <td>0.0</td>\n",
       "    </tr>\n",
       "    <tr>\n",
       "      <th>2998875</th>\n",
       "      <td>2998875</td>\n",
       "      <td>2017-08-14</td>\n",
       "      <td>52</td>\n",
       "      <td>AUTOMOTIVE</td>\n",
       "      <td>5.0</td>\n",
       "      <td>0</td>\n",
       "      <td>1180.0</td>\n",
       "      <td>0.0</td>\n",
       "      <td>0.0</td>\n",
       "      <td>0.0</td>\n",
       "      <td>0.0</td>\n",
       "      <td>0.0</td>\n",
       "      <td>0</td>\n",
       "      <td>0</td>\n",
       "      <td>0</td>\n",
       "      <td>0.0</td>\n",
       "    </tr>\n",
       "    <tr>\n",
       "      <th>3000657</th>\n",
       "      <td>3000657</td>\n",
       "      <td>2017-08-15</td>\n",
       "      <td>52</td>\n",
       "      <td>AUTOMOTIVE</td>\n",
       "      <td>2.0</td>\n",
       "      <td>0</td>\n",
       "      <td>1495.0</td>\n",
       "      <td>1.0</td>\n",
       "      <td>0.0</td>\n",
       "      <td>0.0</td>\n",
       "      <td>0.0</td>\n",
       "      <td>0.0</td>\n",
       "      <td>0</td>\n",
       "      <td>0</td>\n",
       "      <td>0</td>\n",
       "      <td>0.0</td>\n",
       "    </tr>\n",
       "  </tbody>\n",
       "</table>\n",
       "</div>"
      ],
      "text/plain": [
       "              id       date  store_nbr      family  sales  onpromotion  \\\n",
       "2975709  2975709 2017-08-01         52  AUTOMOTIVE    5.0            0   \n",
       "2977491  2977491 2017-08-02         52  AUTOMOTIVE   19.0            0   \n",
       "2979273  2979273 2017-08-03         52  AUTOMOTIVE   19.0            0   \n",
       "2981055  2981055 2017-08-04         52  AUTOMOTIVE    9.0            0   \n",
       "2982837  2982837 2017-08-05         52  AUTOMOTIVE   15.0            0   \n",
       "2984619  2984619 2017-08-06         52  AUTOMOTIVE   24.0            0   \n",
       "2986401  2986401 2017-08-07         52  AUTOMOTIVE    5.0            0   \n",
       "2988183  2988183 2017-08-08         52  AUTOMOTIVE    8.0            0   \n",
       "2989965  2989965 2017-08-09         52  AUTOMOTIVE   11.0            0   \n",
       "2991747  2991747 2017-08-10         52  AUTOMOTIVE    7.0            0   \n",
       "2993529  2993529 2017-08-11         52  AUTOMOTIVE   17.0            0   \n",
       "2995311  2995311 2017-08-12         52  AUTOMOTIVE   13.0            0   \n",
       "2997093  2997093 2017-08-13         52  AUTOMOTIVE   21.0            0   \n",
       "2998875  2998875 2017-08-14         52  AUTOMOTIVE    5.0            0   \n",
       "3000657  3000657 2017-08-15         52  AUTOMOTIVE    2.0            0   \n",
       "\n",
       "         transactions  payday  Local Holiday  Regional Holiday  Workday  \\\n",
       "2975709        1905.0     0.0            0.0               0.0      0.0   \n",
       "2977491        1975.0     0.0            0.0               0.0      0.0   \n",
       "2979273        1783.0     0.0            0.0               0.0      0.0   \n",
       "2981055        2125.0     0.0            0.0               0.0      0.0   \n",
       "2982837        2765.0     0.0            0.0               0.0      0.0   \n",
       "2984619        2599.0     0.0            0.0               0.0      0.0   \n",
       "2986401        1829.0     0.0            0.0               0.0      0.0   \n",
       "2988183        1644.0     0.0            0.0               0.0      0.0   \n",
       "2989965        1820.0     0.0            0.0               0.0      0.0   \n",
       "2991747        3621.0     0.0            0.0               0.0      0.0   \n",
       "2993529        2802.0     0.0            0.0               0.0      0.0   \n",
       "2995311        2733.0     0.0            0.0               0.0      0.0   \n",
       "2997093        2176.0     0.0            0.0               0.0      0.0   \n",
       "2998875        1180.0     0.0            0.0               0.0      0.0   \n",
       "3000657        1495.0     1.0            0.0               0.0      0.0   \n",
       "\n",
       "         National Workday  National Event  National holiday  \\\n",
       "2975709               0.0               0                 0   \n",
       "2977491               0.0               0                 0   \n",
       "2979273               0.0               0                 0   \n",
       "2981055               0.0               0                 0   \n",
       "2982837               0.0               0                 0   \n",
       "2984619               0.0               0                 0   \n",
       "2986401               0.0               0                 0   \n",
       "2988183               0.0               0                 0   \n",
       "2989965               0.0               0                 0   \n",
       "2991747               0.0               0                 7   \n",
       "2993529               0.0               0                 0   \n",
       "2995311               0.0               0                 0   \n",
       "2997093               0.0               0                 0   \n",
       "2998875               0.0               0                 0   \n",
       "3000657               0.0               0                 0   \n",
       "\n",
       "         National period of holiday  Transfer  \n",
       "2975709                           0       0.0  \n",
       "2977491                           0       0.0  \n",
       "2979273                           0       0.0  \n",
       "2981055                           0       0.0  \n",
       "2982837                           0       0.0  \n",
       "2984619                           0       0.0  \n",
       "2986401                           0       0.0  \n",
       "2988183                           0       0.0  \n",
       "2989965                           0       0.0  \n",
       "2991747                           0       0.0  \n",
       "2993529                           0       1.0  \n",
       "2995311                           0       0.0  \n",
       "2997093                           0       0.0  \n",
       "2998875                           0       0.0  \n",
       "3000657                           0       0.0  "
      ]
     },
     "execution_count": 138,
     "metadata": {},
     "output_type": "execute_result"
    }
   ],
   "source": [
    "sales.loc[(sales[\"family\"] == \"AUTOMOTIVE\")&(sales[\"date\"] >= \"2017-08-01\")&(sales[\"store_nbr\"] == 52)]"
   ]
  },
  {
   "cell_type": "markdown",
   "id": "7bab684b",
   "metadata": {},
   "source": [
    "# **Predictions looping through families and stores**"
   ]
  },
  {
   "cell_type": "code",
   "execution_count": 139,
   "id": "3f439a6d",
   "metadata": {},
   "outputs": [],
   "source": [
    "items_list = list(sales[\"family\"].unique())"
   ]
  },
  {
   "cell_type": "code",
   "execution_count": 140,
   "id": "bdc88150",
   "metadata": {},
   "outputs": [
    {
     "data": {
      "text/plain": [
       "['AUTOMOTIVE',\n",
       " 'BABY CARE',\n",
       " 'BEAUTY',\n",
       " 'BEVERAGES',\n",
       " 'BOOKS',\n",
       " 'BREAD/BAKERY',\n",
       " 'CELEBRATION',\n",
       " 'CLEANING',\n",
       " 'DAIRY',\n",
       " 'DELI',\n",
       " 'EGGS',\n",
       " 'FROZEN FOODS',\n",
       " 'GROCERY I',\n",
       " 'GROCERY II',\n",
       " 'HARDWARE',\n",
       " 'HOME AND KITCHEN I',\n",
       " 'HOME AND KITCHEN II',\n",
       " 'HOME APPLIANCES',\n",
       " 'HOME CARE',\n",
       " 'LADIESWEAR',\n",
       " 'LAWN AND GARDEN',\n",
       " 'LINGERIE',\n",
       " 'LIQUOR,WINE,BEER',\n",
       " 'MAGAZINES',\n",
       " 'MEATS',\n",
       " 'PERSONAL CARE',\n",
       " 'PET SUPPLIES',\n",
       " 'PLAYERS AND ELECTRONICS',\n",
       " 'POULTRY',\n",
       " 'PREPARED FOODS',\n",
       " 'PRODUCE',\n",
       " 'SCHOOL AND OFFICE SUPPLIES',\n",
       " 'SEAFOOD']"
      ]
     },
     "execution_count": 140,
     "metadata": {},
     "output_type": "execute_result"
    }
   ],
   "source": [
    "items_list"
   ]
  },
  {
   "cell_type": "code",
   "execution_count": 141,
   "id": "ca324050",
   "metadata": {},
   "outputs": [],
   "source": [
    "sales.loc[sales[\"family\"] == \"BREAD/BAKERY\",\"family\"] = \"BREAD\""
   ]
  },
  {
   "cell_type": "code",
   "execution_count": 142,
   "id": "f286cd60",
   "metadata": {},
   "outputs": [
    {
     "data": {
      "text/plain": [
       "['AUTOMOTIVE',\n",
       " 'BABY CARE',\n",
       " 'BEAUTY',\n",
       " 'BEVERAGES',\n",
       " 'BOOKS',\n",
       " 'BREAD',\n",
       " 'CELEBRATION',\n",
       " 'CLEANING',\n",
       " 'DAIRY',\n",
       " 'DELI',\n",
       " 'EGGS',\n",
       " 'FROZEN FOODS',\n",
       " 'GROCERY I',\n",
       " 'GROCERY II',\n",
       " 'HARDWARE',\n",
       " 'HOME AND KITCHEN I',\n",
       " 'HOME AND KITCHEN II',\n",
       " 'HOME APPLIANCES',\n",
       " 'HOME CARE',\n",
       " 'LADIESWEAR',\n",
       " 'LAWN AND GARDEN',\n",
       " 'LINGERIE',\n",
       " 'LIQUOR,WINE,BEER',\n",
       " 'MAGAZINES',\n",
       " 'MEATS',\n",
       " 'PERSONAL CARE',\n",
       " 'PET SUPPLIES',\n",
       " 'PLAYERS AND ELECTRONICS',\n",
       " 'POULTRY',\n",
       " 'PREPARED FOODS',\n",
       " 'PRODUCE',\n",
       " 'SCHOOL AND OFFICE SUPPLIES',\n",
       " 'SEAFOOD']"
      ]
     },
     "execution_count": 142,
     "metadata": {},
     "output_type": "execute_result"
    }
   ],
   "source": [
    "items_list = list(sales[\"family\"].unique())\n",
    "items_list"
   ]
  },
  {
   "cell_type": "code",
   "execution_count": 143,
   "id": "bbf1e1d0",
   "metadata": {},
   "outputs": [
    {
     "name": "stdout",
     "output_type": "stream",
     "text": [
      "<class 'pandas.core.frame.DataFrame'>\n",
      "Index: 2997324 entries, 0 to 3000887\n",
      "Data columns (total 16 columns):\n",
      " #   Column                      Dtype         \n",
      "---  ------                      -----         \n",
      " 0   id                          int64         \n",
      " 1   date                        datetime64[ns]\n",
      " 2   store_nbr                   int64         \n",
      " 3   family                      object        \n",
      " 4   sales                       float64       \n",
      " 5   onpromotion                 int64         \n",
      " 6   transactions                float64       \n",
      " 7   payday                      float64       \n",
      " 8   Local Holiday               float64       \n",
      " 9   Regional Holiday            float64       \n",
      " 10  Workday                     float64       \n",
      " 11  National Workday            float64       \n",
      " 12  National Event              Int64         \n",
      " 13  National holiday            Int64         \n",
      " 14  National period of holiday  Int64         \n",
      " 15  Transfer                    float64       \n",
      "dtypes: Int64(3), datetime64[ns](1), float64(8), int64(3), object(1)\n",
      "memory usage: 397.3+ MB\n"
     ]
    }
   ],
   "source": [
    "sales.info()"
   ]
  },
  {
   "cell_type": "code",
   "execution_count": 144,
   "id": "53fe58c8",
   "metadata": {},
   "outputs": [
    {
     "name": "stdout",
     "output_type": "stream",
     "text": [
      "id                            0\n",
      "date                          0\n",
      "store_nbr                     0\n",
      "family                        0\n",
      "sales                         0\n",
      "onpromotion                   0\n",
      "transactions                  0\n",
      "payday                        0\n",
      "Local Holiday                 0\n",
      "Regional Holiday              0\n",
      "Workday                       0\n",
      "National Workday              0\n",
      "National Event                0\n",
      "National holiday              0\n",
      "National period of holiday    0\n",
      "Transfer                      0\n",
      "dtype: int64\n"
     ]
    }
   ],
   "source": [
    "print(sales.isna().sum())"
   ]
  },
  {
   "cell_type": "code",
   "execution_count": 145,
   "id": "94904c77",
   "metadata": {},
   "outputs": [
    {
     "data": {
      "text/plain": [
       "<pandas.core.indexing._LocIndexer at 0x195583299f0>"
      ]
     },
     "execution_count": 145,
     "metadata": {},
     "output_type": "execute_result"
    }
   ],
   "source": [
    "sales.loc"
   ]
  },
  {
   "cell_type": "code",
   "execution_count": 146,
   "id": "2544e106",
   "metadata": {},
   "outputs": [
    {
     "data": {
      "text/plain": [
       "25"
      ]
     },
     "execution_count": 146,
     "metadata": {},
     "output_type": "execute_result"
    }
   ],
   "source": [
    "stores_list[0]"
   ]
  },
  {
   "cell_type": "code",
   "execution_count": 147,
   "id": "920c38d4",
   "metadata": {},
   "outputs": [],
   "source": [
    "AUTOMOTIVE_df = family_df(family_name=\"AUTOMOTIVE\",df=sales, month=8)"
   ]
  },
  {
   "cell_type": "code",
   "execution_count": 148,
   "id": "11d8d588",
   "metadata": {},
   "outputs": [
    {
     "data": {
      "text/html": [
       "<div>\n",
       "<style scoped>\n",
       "    .dataframe tbody tr th:only-of-type {\n",
       "        vertical-align: middle;\n",
       "    }\n",
       "\n",
       "    .dataframe tbody tr th {\n",
       "        vertical-align: top;\n",
       "    }\n",
       "\n",
       "    .dataframe thead th {\n",
       "        text-align: right;\n",
       "    }\n",
       "</style>\n",
       "<table border=\"1\" class=\"dataframe\">\n",
       "  <thead>\n",
       "    <tr style=\"text-align: right;\">\n",
       "      <th></th>\n",
       "      <th>var1 y(t)</th>\n",
       "    </tr>\n",
       "    <tr>\n",
       "      <th>date</th>\n",
       "      <th></th>\n",
       "    </tr>\n",
       "  </thead>\n",
       "  <tbody>\n",
       "    <tr>\n",
       "      <th>2017-08-01</th>\n",
       "      <td>5.0</td>\n",
       "    </tr>\n",
       "    <tr>\n",
       "      <th>2017-08-02</th>\n",
       "      <td>19.0</td>\n",
       "    </tr>\n",
       "    <tr>\n",
       "      <th>2017-08-03</th>\n",
       "      <td>19.0</td>\n",
       "    </tr>\n",
       "    <tr>\n",
       "      <th>2017-08-04</th>\n",
       "      <td>9.0</td>\n",
       "    </tr>\n",
       "    <tr>\n",
       "      <th>2017-08-05</th>\n",
       "      <td>15.0</td>\n",
       "    </tr>\n",
       "    <tr>\n",
       "      <th>2017-08-06</th>\n",
       "      <td>24.0</td>\n",
       "    </tr>\n",
       "    <tr>\n",
       "      <th>2017-08-07</th>\n",
       "      <td>5.0</td>\n",
       "    </tr>\n",
       "    <tr>\n",
       "      <th>2017-08-08</th>\n",
       "      <td>8.0</td>\n",
       "    </tr>\n",
       "    <tr>\n",
       "      <th>2017-08-09</th>\n",
       "      <td>11.0</td>\n",
       "    </tr>\n",
       "    <tr>\n",
       "      <th>2017-08-10</th>\n",
       "      <td>7.0</td>\n",
       "    </tr>\n",
       "    <tr>\n",
       "      <th>2017-08-11</th>\n",
       "      <td>17.0</td>\n",
       "    </tr>\n",
       "    <tr>\n",
       "      <th>2017-08-12</th>\n",
       "      <td>13.0</td>\n",
       "    </tr>\n",
       "    <tr>\n",
       "      <th>2017-08-13</th>\n",
       "      <td>21.0</td>\n",
       "    </tr>\n",
       "    <tr>\n",
       "      <th>2017-08-14</th>\n",
       "      <td>5.0</td>\n",
       "    </tr>\n",
       "    <tr>\n",
       "      <th>2017-08-15</th>\n",
       "      <td>2.0</td>\n",
       "    </tr>\n",
       "  </tbody>\n",
       "</table>\n",
       "</div>"
      ],
      "text/plain": [
       "            var1 y(t)\n",
       "date                 \n",
       "2017-08-01        5.0\n",
       "2017-08-02       19.0\n",
       "2017-08-03       19.0\n",
       "2017-08-04        9.0\n",
       "2017-08-05       15.0\n",
       "2017-08-06       24.0\n",
       "2017-08-07        5.0\n",
       "2017-08-08        8.0\n",
       "2017-08-09       11.0\n",
       "2017-08-10        7.0\n",
       "2017-08-11       17.0\n",
       "2017-08-12       13.0\n",
       "2017-08-13       21.0\n",
       "2017-08-14        5.0\n",
       "2017-08-15        2.0"
      ]
     },
     "execution_count": 148,
     "metadata": {},
     "output_type": "execute_result"
    }
   ],
   "source": [
    "auto_52 = AUTOMOTIVE_df.loc[AUTOMOTIVE_df[\"store_nbr\"] == 52].copy()\n",
    "auto_52.drop(\"store_nbr\", axis=1, inplace=True)\n",
    "to_be_lagged = auto_52[[\"sales\",\"transactions\",\"weekday\"]].copy()\n",
    "lagg = SplitLagg_sale(to_be_lagged,\"sales\")\n",
    "lagg.sales_X()\n",
    "X_lagged = lagg.lagg_X(4)\n",
    "y_lagged = lagg.lagg_y(4)\n",
    "cols_to_remove = list(to_be_lagged.columns)\n",
    "auto_52.drop(cols_to_remove, axis=1, inplace=True)\n",
    "auto_52 = pd.concat([auto_52,X_lagged,y_lagged], axis=1)\n",
    "X = auto_52.drop(\"var1 y(t)\", axis=1)\n",
    "y = auto_52[[\"var1 y(t)\"]]\n",
    "X_train = X.loc[:\"2017-07-31\"]\n",
    "y_train = y.loc[:\"2017-07-31\"]\n",
    "X_test = X.loc[\"2017-08-01\":]\n",
    "y_test = y.loc[\"2017-08-01\":]\n",
    "y_test"
   ]
  },
  {
   "cell_type": "code",
   "execution_count": 149,
   "id": "87eecbc6",
   "metadata": {},
   "outputs": [],
   "source": [
    "aug_dates_25 = list(sales.loc[(sales[\"store_nbr\"] == stores_list[0])&(sales[\"date\"] >= \"2017-08-01\"),\"date\"].unique())"
   ]
  },
  {
   "cell_type": "code",
   "execution_count": 151,
   "id": "177f76f3",
   "metadata": {},
   "outputs": [],
   "source": [
    "for item in items_list:\n",
    "    item_df = family_df(family_name=item,df=sales,month=8)\n",
    "    stores_pred_df = pd.DataFrame(aug_dates_25, columns=[\"date\"])\n",
    "    for store in stores_list:\n",
    "        store_df = item_df[item_df[\"store_nbr\"] == store].copy()\n",
    "        store_df.drop(\"store_nbr\", axis=1, inplace=True)\n",
    "        to_be_lagged = store_df[[\"sales\",\"transactions\",\"weekday\"]].copy()\n",
    "        lagg = SplitLagg_sale(to_be_lagged,\"sales\")\n",
    "        lagg.sales_X()\n",
    "        lagg_X = lagg.lagg_X(4)\n",
    "        lagg_y = lagg.lagg_y(4)\n",
    "        cols_to_remove = list(to_be_lagged.columns)\n",
    "        store_df = store_df.drop(cols_to_remove,axis=1)\n",
    "        store_df = store_df.iloc[4:]\n",
    "        store_df = pd.concat([store_df,lagg_X,lagg_y],axis=1)\n",
    "        #split\n",
    "        X = store_df.drop(\"var1 y(t)\", axis=1)\n",
    "        y = store_df[[\"var1 y(t)\"]]\n",
    "        X_train = X.loc[:\"2017-07-31\"]\n",
    "        y_train = y.loc[:\"2017-07-31\"]\n",
    "        X_test = X.loc[\"2017-08-01\":]\n",
    "        y_test = y.loc[\"2017-08-01\":]\n",
    "        index=len(X.columns) - 4 #index of the col from which we add the pred laggs\n",
    "        test_y = X_test.iloc[:,index:].copy()\n",
    "        if len(X_test)==0:\n",
    "            print(f\"The store {store} doesn't have any {item}\")\n",
    "            break\n",
    "        elif len(X_test) < 15:\n",
    "            print(f\"Store {store} has missing dates for item {item}\")\n",
    "        predictions, test_pred = recurs_Lin_regr(X_train,y_train,X_test,test_y)\n",
    "        if store == stores_list[0]:\n",
    "            stores_pred_df[\"store_nbr\"] = [store] * len(y_test)\n",
    "            stores_pred_df[\"value\"] = y_test.values\n",
    "            stores_pred_df[\"prediction\"] = predictions\n",
    "        else:\n",
    "            store_dict_i = {\"date\":X_test.index, \"store_nbr\":[store]*len(y_test), \"value\":y_test[\"var1 y(t)\"],\\\n",
    "                          \"prediction\":predictions}\n",
    "            store_dict_i = pd.DataFrame(store_dict_i)\n",
    "            stores_pred_df = pd.concat([stores_pred_df, store_dict_i], ignore_index=True, axis=0)\n",
    "            stores_pred_df[\"prediction\"] = stores_pred_df[\"prediction\"].astype(\"int\")\n",
    "    with open(f\"{item}_pred.pkl\", \"wb\") as f:\n",
    "        pickle.dump(stores_pred_df,f)\n",
    "        "
   ]
  }
 ],
 "metadata": {
  "kernelspec": {
   "display_name": "Essai",
   "language": "python",
   "name": "python3"
  },
  "language_info": {
   "codemirror_mode": {
    "name": "ipython",
    "version": 3
   },
   "file_extension": ".py",
   "mimetype": "text/x-python",
   "name": "python",
   "nbconvert_exporter": "python",
   "pygments_lexer": "ipython3",
   "version": "3.12.3"
  }
 },
 "nbformat": 4,
 "nbformat_minor": 5
}

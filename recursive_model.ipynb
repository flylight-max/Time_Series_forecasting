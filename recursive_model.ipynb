{
 "cells": [
  {
   "cell_type": "markdown",
   "metadata": {},
   "source": [
    "# **Packages**"
   ]
  },
  {
   "cell_type": "code",
   "execution_count": 1,
   "metadata": {},
   "outputs": [],
   "source": [
    "import pandas as pd\n",
    "import numpy as np\n",
    "import matplotlib.pyplot as plt\n",
    "import seaborn as sns\n",
    "import pickle\n",
    "\n",
    "from stores_module import *\n",
    "from recursive_predictions import *\n",
    "\n",
    "from sklearn.metrics import mean_absolute_error as mae, root_mean_squared_log_error as rmsle\n"
   ]
  },
  {
   "cell_type": "markdown",
   "metadata": {},
   "source": [
    "# **Store 25**"
   ]
  },
  {
   "cell_type": "code",
   "execution_count": 2,
   "metadata": {},
   "outputs": [
    {
     "name": "stdout",
     "output_type": "stream",
     "text": [
      "<class 'pandas.core.frame.DataFrame'>\n",
      "Index: 1615 entries, 0 to 83458\n",
      "Data columns (total 12 columns):\n",
      " #   Column                      Non-Null Count  Dtype         \n",
      "---  ------                      --------------  -----         \n",
      " 0   date                        1615 non-null   datetime64[ns]\n",
      " 1   transactions                1615 non-null   int64         \n",
      " 2   National Event              1615 non-null   category      \n",
      " 3   National holiday            1615 non-null   category      \n",
      " 4   National period of holiday  1615 non-null   category      \n",
      " 5   National Workday            1615 non-null   category      \n",
      " 6   Local Holiday               1615 non-null   category      \n",
      " 7   Regional Holiday            1615 non-null   category      \n",
      " 8   Workday                     1615 non-null   category      \n",
      " 9   Transfer                    1615 non-null   category      \n",
      " 10  onpromotion                 1615 non-null   int64         \n",
      " 11  weekday                     1615 non-null   int32         \n",
      "dtypes: category(8), datetime64[ns](1), int32(1), int64(2)\n",
      "memory usage: 69.7 KB\n"
     ]
    }
   ],
   "source": [
    "store_25 = store_data(25)\n",
    "store_25.info()"
   ]
  },
  {
   "cell_type": "markdown",
   "metadata": {},
   "source": [
    "## **Categorical to numbers**"
   ]
  },
  {
   "cell_type": "code",
   "execution_count": 3,
   "metadata": {},
   "outputs": [],
   "source": [
    "switch_binom = binom_cat_bool(store_25)"
   ]
  },
  {
   "cell_type": "code",
   "execution_count": 4,
   "metadata": {},
   "outputs": [],
   "source": [
    "list_binom_store25, list_binom_dict_str25 = switch_binom.binom_bool()"
   ]
  },
  {
   "cell_type": "code",
   "execution_count": 5,
   "metadata": {},
   "outputs": [],
   "source": [
    "store_25 = switch_binom.transform()"
   ]
  },
  {
   "cell_type": "code",
   "execution_count": 6,
   "metadata": {},
   "outputs": [],
   "source": [
    "no_cat_list = [\"not a national event\",\"Not a Nat holiday\",\"Nope\"]\n",
    "for col in store_25.columns:\n",
    "    for no_cat in no_cat_list:\n",
    "        if store_25[col].dtype == 'category' and no_cat in store_25[col].cat.categories:\n",
    "            rename_null_cat(store_25,col,no_cat)"
   ]
  },
  {
   "cell_type": "code",
   "execution_count": 7,
   "metadata": {},
   "outputs": [],
   "source": [
    "multinom_dict_list = []\n",
    "for col in store_25.columns:\n",
    "    if store_25[col].dtype == 'category':\n",
    "        col_encod = my_labelEncoder()\n",
    "        col_encod.fit(store_25,col)\n",
    "        col_dict = col_encod.dict_cat\n",
    "        multinom_dict_list.append(col_dict)\n",
    "        store_25[col] = col_encod.transform(store_25,col)"
   ]
  },
  {
   "cell_type": "code",
   "execution_count": 8,
   "metadata": {},
   "outputs": [
    {
     "name": "stdout",
     "output_type": "stream",
     "text": [
      "<class 'pandas.core.frame.DataFrame'>\n",
      "Index: 1615 entries, 0 to 83458\n",
      "Data columns (total 12 columns):\n",
      " #   Column                      Non-Null Count  Dtype         \n",
      "---  ------                      --------------  -----         \n",
      " 0   date                        1615 non-null   datetime64[ns]\n",
      " 1   transactions                1615 non-null   int64         \n",
      " 2   National Event              1615 non-null   Int64         \n",
      " 3   National holiday            1615 non-null   Int64         \n",
      " 4   National period of holiday  1615 non-null   Int64         \n",
      " 5   National Workday            1615 non-null   int32         \n",
      " 6   Local Holiday               1615 non-null   int32         \n",
      " 7   Regional Holiday            1615 non-null   int32         \n",
      " 8   Workday                     1615 non-null   int32         \n",
      " 9   Transfer                    1615 non-null   int32         \n",
      " 10  onpromotion                 1615 non-null   int64         \n",
      " 11  weekday                     1615 non-null   int32         \n",
      "dtypes: Int64(3), datetime64[ns](1), int32(6), int64(2)\n",
      "memory usage: 130.9 KB\n"
     ]
    }
   ],
   "source": [
    "store_25.info()"
   ]
  },
  {
   "cell_type": "markdown",
   "metadata": {},
   "source": [
    "## **Feature selection based on time of interest**"
   ]
  },
  {
   "cell_type": "code",
   "execution_count": 9,
   "metadata": {},
   "outputs": [
    {
     "name": "stdout",
     "output_type": "stream",
     "text": [
      "<class 'pandas.core.frame.DataFrame'>\n",
      "DatetimeIndex: 1615 entries, 2013-01-01 to 2017-08-15\n",
      "Data columns (total 5 columns):\n",
      " #   Column            Non-Null Count  Dtype\n",
      "---  ------            --------------  -----\n",
      " 0   transactions      1615 non-null   int64\n",
      " 1   National holiday  1615 non-null   Int64\n",
      " 2   Transfer          1615 non-null   int32\n",
      " 3   onpromotion       1615 non-null   int64\n",
      " 4   weekday           1615 non-null   int32\n",
      "dtypes: Int64(1), int32(2), int64(2)\n",
      "memory usage: 64.7 KB\n"
     ]
    }
   ],
   "source": [
    "store25_Aug, store_25 = frame_time_of_interest(store_25,8)\n",
    "store_25.info()"
   ]
  },
  {
   "cell_type": "code",
   "execution_count": 10,
   "metadata": {},
   "outputs": [
    {
     "name": "stdout",
     "output_type": "stream",
     "text": [
      "<class 'pandas.core.frame.DataFrame'>\n",
      "Index: 129 entries, 9785 to 83458\n",
      "Data columns (total 6 columns):\n",
      " #   Column            Non-Null Count  Dtype         \n",
      "---  ------            --------------  -----         \n",
      " 0   date              129 non-null    datetime64[ns]\n",
      " 1   transactions      129 non-null    int64         \n",
      " 2   National holiday  129 non-null    Int64         \n",
      " 3   Transfer          129 non-null    int32         \n",
      " 4   onpromotion       129 non-null    int64         \n",
      " 5   weekday           129 non-null    int32         \n",
      "dtypes: Int64(1), datetime64[ns](1), int32(2), int64(2)\n",
      "memory usage: 6.2 KB\n"
     ]
    }
   ],
   "source": [
    "store25_Aug.info()"
   ]
  },
  {
   "cell_type": "code",
   "execution_count": 11,
   "metadata": {},
   "outputs": [
    {
     "data": {
      "text/html": [
       "<div>\n",
       "<style scoped>\n",
       "    .dataframe tbody tr th:only-of-type {\n",
       "        vertical-align: middle;\n",
       "    }\n",
       "\n",
       "    .dataframe tbody tr th {\n",
       "        vertical-align: top;\n",
       "    }\n",
       "\n",
       "    .dataframe thead th {\n",
       "        text-align: right;\n",
       "    }\n",
       "</style>\n",
       "<table border=\"1\" class=\"dataframe\">\n",
       "  <thead>\n",
       "    <tr style=\"text-align: right;\">\n",
       "      <th></th>\n",
       "      <th>date</th>\n",
       "      <th>weekday</th>\n",
       "    </tr>\n",
       "  </thead>\n",
       "  <tbody>\n",
       "    <tr>\n",
       "      <th>63541</th>\n",
       "      <td>2016-08-01</td>\n",
       "      <td>0</td>\n",
       "    </tr>\n",
       "    <tr>\n",
       "      <th>63594</th>\n",
       "      <td>2016-08-02</td>\n",
       "      <td>1</td>\n",
       "    </tr>\n",
       "    <tr>\n",
       "      <th>63647</th>\n",
       "      <td>2016-08-03</td>\n",
       "      <td>2</td>\n",
       "    </tr>\n",
       "    <tr>\n",
       "      <th>63700</th>\n",
       "      <td>2016-08-04</td>\n",
       "      <td>3</td>\n",
       "    </tr>\n",
       "    <tr>\n",
       "      <th>63753</th>\n",
       "      <td>2016-08-05</td>\n",
       "      <td>4</td>\n",
       "    </tr>\n",
       "    <tr>\n",
       "      <th>63806</th>\n",
       "      <td>2016-08-06</td>\n",
       "      <td>5</td>\n",
       "    </tr>\n",
       "    <tr>\n",
       "      <th>63859</th>\n",
       "      <td>2016-08-07</td>\n",
       "      <td>6</td>\n",
       "    </tr>\n",
       "    <tr>\n",
       "      <th>63912</th>\n",
       "      <td>2016-08-08</td>\n",
       "      <td>0</td>\n",
       "    </tr>\n",
       "    <tr>\n",
       "      <th>63965</th>\n",
       "      <td>2016-08-09</td>\n",
       "      <td>1</td>\n",
       "    </tr>\n",
       "    <tr>\n",
       "      <th>64018</th>\n",
       "      <td>2016-08-10</td>\n",
       "      <td>2</td>\n",
       "    </tr>\n",
       "    <tr>\n",
       "      <th>64071</th>\n",
       "      <td>2016-08-11</td>\n",
       "      <td>3</td>\n",
       "    </tr>\n",
       "    <tr>\n",
       "      <th>64124</th>\n",
       "      <td>2016-08-12</td>\n",
       "      <td>4</td>\n",
       "    </tr>\n",
       "    <tr>\n",
       "      <th>64177</th>\n",
       "      <td>2016-08-13</td>\n",
       "      <td>5</td>\n",
       "    </tr>\n",
       "    <tr>\n",
       "      <th>64230</th>\n",
       "      <td>2016-08-14</td>\n",
       "      <td>6</td>\n",
       "    </tr>\n",
       "    <tr>\n",
       "      <th>64282</th>\n",
       "      <td>2016-08-15</td>\n",
       "      <td>0</td>\n",
       "    </tr>\n",
       "    <tr>\n",
       "      <th>64334</th>\n",
       "      <td>2016-08-16</td>\n",
       "      <td>1</td>\n",
       "    </tr>\n",
       "    <tr>\n",
       "      <th>64386</th>\n",
       "      <td>2016-08-17</td>\n",
       "      <td>2</td>\n",
       "    </tr>\n",
       "    <tr>\n",
       "      <th>64438</th>\n",
       "      <td>2016-08-18</td>\n",
       "      <td>3</td>\n",
       "    </tr>\n",
       "    <tr>\n",
       "      <th>64490</th>\n",
       "      <td>2016-08-19</td>\n",
       "      <td>4</td>\n",
       "    </tr>\n",
       "    <tr>\n",
       "      <th>64542</th>\n",
       "      <td>2016-08-20</td>\n",
       "      <td>5</td>\n",
       "    </tr>\n",
       "    <tr>\n",
       "      <th>64594</th>\n",
       "      <td>2016-08-21</td>\n",
       "      <td>6</td>\n",
       "    </tr>\n",
       "  </tbody>\n",
       "</table>\n",
       "</div>"
      ],
      "text/plain": [
       "            date  weekday\n",
       "63541 2016-08-01        0\n",
       "63594 2016-08-02        1\n",
       "63647 2016-08-03        2\n",
       "63700 2016-08-04        3\n",
       "63753 2016-08-05        4\n",
       "63806 2016-08-06        5\n",
       "63859 2016-08-07        6\n",
       "63912 2016-08-08        0\n",
       "63965 2016-08-09        1\n",
       "64018 2016-08-10        2\n",
       "64071 2016-08-11        3\n",
       "64124 2016-08-12        4\n",
       "64177 2016-08-13        5\n",
       "64230 2016-08-14        6\n",
       "64282 2016-08-15        0\n",
       "64334 2016-08-16        1\n",
       "64386 2016-08-17        2\n",
       "64438 2016-08-18        3\n",
       "64490 2016-08-19        4\n",
       "64542 2016-08-20        5\n",
       "64594 2016-08-21        6"
      ]
     },
     "execution_count": 11,
     "metadata": {},
     "output_type": "execute_result"
    }
   ],
   "source": [
    "store25_Aug[\"year\"] = store25_Aug[\"date\"].dt.year\n",
    "store25_Aug[\"month\"] = store25_Aug[\"date\"].dt.month\n",
    "store25_Aug.loc[(store25_Aug[\"year\"] == 2016)&(store25_Aug[\"month\"] == 8),\\\n",
    "                [\"date\",\"weekday\"]]"
   ]
  },
  {
   "cell_type": "code",
   "execution_count": 12,
   "metadata": {},
   "outputs": [
    {
     "data": {
      "text/html": [
       "<div>\n",
       "<style scoped>\n",
       "    .dataframe tbody tr th:only-of-type {\n",
       "        vertical-align: middle;\n",
       "    }\n",
       "\n",
       "    .dataframe tbody tr th {\n",
       "        vertical-align: top;\n",
       "    }\n",
       "\n",
       "    .dataframe thead th {\n",
       "        text-align: right;\n",
       "    }\n",
       "</style>\n",
       "<table border=\"1\" class=\"dataframe\">\n",
       "  <thead>\n",
       "    <tr style=\"text-align: right;\">\n",
       "      <th></th>\n",
       "      <th>date</th>\n",
       "      <th>weekday</th>\n",
       "      <th>Transfer</th>\n",
       "    </tr>\n",
       "  </thead>\n",
       "  <tbody>\n",
       "    <tr>\n",
       "      <th>63541</th>\n",
       "      <td>2016-08-01</td>\n",
       "      <td>0</td>\n",
       "      <td>0</td>\n",
       "    </tr>\n",
       "    <tr>\n",
       "      <th>63594</th>\n",
       "      <td>2016-08-02</td>\n",
       "      <td>1</td>\n",
       "      <td>0</td>\n",
       "    </tr>\n",
       "    <tr>\n",
       "      <th>63647</th>\n",
       "      <td>2016-08-03</td>\n",
       "      <td>2</td>\n",
       "      <td>0</td>\n",
       "    </tr>\n",
       "    <tr>\n",
       "      <th>63700</th>\n",
       "      <td>2016-08-04</td>\n",
       "      <td>3</td>\n",
       "      <td>0</td>\n",
       "    </tr>\n",
       "    <tr>\n",
       "      <th>63753</th>\n",
       "      <td>2016-08-05</td>\n",
       "      <td>4</td>\n",
       "      <td>0</td>\n",
       "    </tr>\n",
       "    <tr>\n",
       "      <th>63806</th>\n",
       "      <td>2016-08-06</td>\n",
       "      <td>5</td>\n",
       "      <td>0</td>\n",
       "    </tr>\n",
       "    <tr>\n",
       "      <th>63859</th>\n",
       "      <td>2016-08-07</td>\n",
       "      <td>6</td>\n",
       "      <td>0</td>\n",
       "    </tr>\n",
       "    <tr>\n",
       "      <th>63912</th>\n",
       "      <td>2016-08-08</td>\n",
       "      <td>0</td>\n",
       "      <td>0</td>\n",
       "    </tr>\n",
       "    <tr>\n",
       "      <th>63965</th>\n",
       "      <td>2016-08-09</td>\n",
       "      <td>1</td>\n",
       "      <td>0</td>\n",
       "    </tr>\n",
       "    <tr>\n",
       "      <th>64018</th>\n",
       "      <td>2016-08-10</td>\n",
       "      <td>2</td>\n",
       "      <td>0</td>\n",
       "    </tr>\n",
       "    <tr>\n",
       "      <th>64071</th>\n",
       "      <td>2016-08-11</td>\n",
       "      <td>3</td>\n",
       "      <td>0</td>\n",
       "    </tr>\n",
       "    <tr>\n",
       "      <th>64124</th>\n",
       "      <td>2016-08-12</td>\n",
       "      <td>4</td>\n",
       "      <td>1</td>\n",
       "    </tr>\n",
       "    <tr>\n",
       "      <th>64177</th>\n",
       "      <td>2016-08-13</td>\n",
       "      <td>5</td>\n",
       "      <td>0</td>\n",
       "    </tr>\n",
       "    <tr>\n",
       "      <th>64230</th>\n",
       "      <td>2016-08-14</td>\n",
       "      <td>6</td>\n",
       "      <td>0</td>\n",
       "    </tr>\n",
       "    <tr>\n",
       "      <th>64282</th>\n",
       "      <td>2016-08-15</td>\n",
       "      <td>0</td>\n",
       "      <td>0</td>\n",
       "    </tr>\n",
       "    <tr>\n",
       "      <th>64334</th>\n",
       "      <td>2016-08-16</td>\n",
       "      <td>1</td>\n",
       "      <td>0</td>\n",
       "    </tr>\n",
       "    <tr>\n",
       "      <th>64386</th>\n",
       "      <td>2016-08-17</td>\n",
       "      <td>2</td>\n",
       "      <td>0</td>\n",
       "    </tr>\n",
       "    <tr>\n",
       "      <th>64438</th>\n",
       "      <td>2016-08-18</td>\n",
       "      <td>3</td>\n",
       "      <td>0</td>\n",
       "    </tr>\n",
       "    <tr>\n",
       "      <th>64490</th>\n",
       "      <td>2016-08-19</td>\n",
       "      <td>4</td>\n",
       "      <td>0</td>\n",
       "    </tr>\n",
       "    <tr>\n",
       "      <th>64542</th>\n",
       "      <td>2016-08-20</td>\n",
       "      <td>5</td>\n",
       "      <td>0</td>\n",
       "    </tr>\n",
       "    <tr>\n",
       "      <th>64594</th>\n",
       "      <td>2016-08-21</td>\n",
       "      <td>6</td>\n",
       "      <td>0</td>\n",
       "    </tr>\n",
       "  </tbody>\n",
       "</table>\n",
       "</div>"
      ],
      "text/plain": [
       "            date  weekday  Transfer\n",
       "63541 2016-08-01        0         0\n",
       "63594 2016-08-02        1         0\n",
       "63647 2016-08-03        2         0\n",
       "63700 2016-08-04        3         0\n",
       "63753 2016-08-05        4         0\n",
       "63806 2016-08-06        5         0\n",
       "63859 2016-08-07        6         0\n",
       "63912 2016-08-08        0         0\n",
       "63965 2016-08-09        1         0\n",
       "64018 2016-08-10        2         0\n",
       "64071 2016-08-11        3         0\n",
       "64124 2016-08-12        4         1\n",
       "64177 2016-08-13        5         0\n",
       "64230 2016-08-14        6         0\n",
       "64282 2016-08-15        0         0\n",
       "64334 2016-08-16        1         0\n",
       "64386 2016-08-17        2         0\n",
       "64438 2016-08-18        3         0\n",
       "64490 2016-08-19        4         0\n",
       "64542 2016-08-20        5         0\n",
       "64594 2016-08-21        6         0"
      ]
     },
     "execution_count": 12,
     "metadata": {},
     "output_type": "execute_result"
    }
   ],
   "source": [
    "store25_Aug.loc[store25_Aug[\"year\"] == 2016,\\\n",
    "                [\"date\",\"weekday\",\"Transfer\"]]"
   ]
  },
  {
   "cell_type": "code",
   "execution_count": 13,
   "metadata": {},
   "outputs": [
    {
     "data": {
      "text/html": [
       "<div>\n",
       "<style scoped>\n",
       "    .dataframe tbody tr th:only-of-type {\n",
       "        vertical-align: middle;\n",
       "    }\n",
       "\n",
       "    .dataframe tbody tr th {\n",
       "        vertical-align: top;\n",
       "    }\n",
       "\n",
       "    .dataframe thead th {\n",
       "        text-align: right;\n",
       "    }\n",
       "</style>\n",
       "<table border=\"1\" class=\"dataframe\">\n",
       "  <thead>\n",
       "    <tr style=\"text-align: right;\">\n",
       "      <th></th>\n",
       "      <th>date</th>\n",
       "      <th>weekday</th>\n",
       "      <th>Transfer</th>\n",
       "    </tr>\n",
       "  </thead>\n",
       "  <tbody>\n",
       "    <tr>\n",
       "      <th>82702</th>\n",
       "      <td>2017-08-01</td>\n",
       "      <td>1</td>\n",
       "      <td>0</td>\n",
       "    </tr>\n",
       "    <tr>\n",
       "      <th>82756</th>\n",
       "      <td>2017-08-02</td>\n",
       "      <td>2</td>\n",
       "      <td>0</td>\n",
       "    </tr>\n",
       "    <tr>\n",
       "      <th>82810</th>\n",
       "      <td>2017-08-03</td>\n",
       "      <td>3</td>\n",
       "      <td>0</td>\n",
       "    </tr>\n",
       "    <tr>\n",
       "      <th>82864</th>\n",
       "      <td>2017-08-04</td>\n",
       "      <td>4</td>\n",
       "      <td>0</td>\n",
       "    </tr>\n",
       "    <tr>\n",
       "      <th>82918</th>\n",
       "      <td>2017-08-05</td>\n",
       "      <td>5</td>\n",
       "      <td>0</td>\n",
       "    </tr>\n",
       "    <tr>\n",
       "      <th>82972</th>\n",
       "      <td>2017-08-06</td>\n",
       "      <td>6</td>\n",
       "      <td>0</td>\n",
       "    </tr>\n",
       "    <tr>\n",
       "      <th>83026</th>\n",
       "      <td>2017-08-07</td>\n",
       "      <td>0</td>\n",
       "      <td>0</td>\n",
       "    </tr>\n",
       "    <tr>\n",
       "      <th>83080</th>\n",
       "      <td>2017-08-08</td>\n",
       "      <td>1</td>\n",
       "      <td>0</td>\n",
       "    </tr>\n",
       "    <tr>\n",
       "      <th>83134</th>\n",
       "      <td>2017-08-09</td>\n",
       "      <td>2</td>\n",
       "      <td>0</td>\n",
       "    </tr>\n",
       "    <tr>\n",
       "      <th>83188</th>\n",
       "      <td>2017-08-10</td>\n",
       "      <td>3</td>\n",
       "      <td>0</td>\n",
       "    </tr>\n",
       "    <tr>\n",
       "      <th>83242</th>\n",
       "      <td>2017-08-11</td>\n",
       "      <td>4</td>\n",
       "      <td>1</td>\n",
       "    </tr>\n",
       "    <tr>\n",
       "      <th>83296</th>\n",
       "      <td>2017-08-12</td>\n",
       "      <td>5</td>\n",
       "      <td>0</td>\n",
       "    </tr>\n",
       "    <tr>\n",
       "      <th>83350</th>\n",
       "      <td>2017-08-13</td>\n",
       "      <td>6</td>\n",
       "      <td>0</td>\n",
       "    </tr>\n",
       "    <tr>\n",
       "      <th>83404</th>\n",
       "      <td>2017-08-14</td>\n",
       "      <td>0</td>\n",
       "      <td>0</td>\n",
       "    </tr>\n",
       "    <tr>\n",
       "      <th>83458</th>\n",
       "      <td>2017-08-15</td>\n",
       "      <td>1</td>\n",
       "      <td>0</td>\n",
       "    </tr>\n",
       "  </tbody>\n",
       "</table>\n",
       "</div>"
      ],
      "text/plain": [
       "            date  weekday  Transfer\n",
       "82702 2017-08-01        1         0\n",
       "82756 2017-08-02        2         0\n",
       "82810 2017-08-03        3         0\n",
       "82864 2017-08-04        4         0\n",
       "82918 2017-08-05        5         0\n",
       "82972 2017-08-06        6         0\n",
       "83026 2017-08-07        0         0\n",
       "83080 2017-08-08        1         0\n",
       "83134 2017-08-09        2         0\n",
       "83188 2017-08-10        3         0\n",
       "83242 2017-08-11        4         1\n",
       "83296 2017-08-12        5         0\n",
       "83350 2017-08-13        6         0\n",
       "83404 2017-08-14        0         0\n",
       "83458 2017-08-15        1         0"
      ]
     },
     "execution_count": 13,
     "metadata": {},
     "output_type": "execute_result"
    }
   ],
   "source": [
    "store25_Aug.loc[(store25_Aug[\"year\"] == 2017)&(store25_Aug[\"date\"] <= \"2017-08-15\"),[\"date\",\"weekday\",\"Transfer\"]]"
   ]
  },
  {
   "cell_type": "code",
   "execution_count": 14,
   "metadata": {},
   "outputs": [
    {
     "data": {
      "text/html": [
       "<div>\n",
       "<style scoped>\n",
       "    .dataframe tbody tr th:only-of-type {\n",
       "        vertical-align: middle;\n",
       "    }\n",
       "\n",
       "    .dataframe tbody tr th {\n",
       "        vertical-align: top;\n",
       "    }\n",
       "\n",
       "    .dataframe thead th {\n",
       "        text-align: right;\n",
       "    }\n",
       "</style>\n",
       "<table border=\"1\" class=\"dataframe\">\n",
       "  <thead>\n",
       "    <tr style=\"text-align: right;\">\n",
       "      <th></th>\n",
       "      <th>transactions</th>\n",
       "      <th>National holiday</th>\n",
       "      <th>Transfer</th>\n",
       "      <th>onpromotion</th>\n",
       "      <th>weekday</th>\n",
       "    </tr>\n",
       "    <tr>\n",
       "      <th>date</th>\n",
       "      <th></th>\n",
       "      <th></th>\n",
       "      <th></th>\n",
       "      <th></th>\n",
       "      <th></th>\n",
       "    </tr>\n",
       "  </thead>\n",
       "  <tbody>\n",
       "    <tr>\n",
       "      <th>2013-01-01</th>\n",
       "      <td>770</td>\n",
       "      <td>8</td>\n",
       "      <td>0</td>\n",
       "      <td>0</td>\n",
       "      <td>1</td>\n",
       "    </tr>\n",
       "    <tr>\n",
       "      <th>2013-01-02</th>\n",
       "      <td>1038</td>\n",
       "      <td>0</td>\n",
       "      <td>0</td>\n",
       "      <td>0</td>\n",
       "      <td>2</td>\n",
       "    </tr>\n",
       "    <tr>\n",
       "      <th>2013-01-03</th>\n",
       "      <td>887</td>\n",
       "      <td>0</td>\n",
       "      <td>0</td>\n",
       "      <td>0</td>\n",
       "      <td>3</td>\n",
       "    </tr>\n",
       "    <tr>\n",
       "      <th>2013-01-04</th>\n",
       "      <td>1054</td>\n",
       "      <td>0</td>\n",
       "      <td>0</td>\n",
       "      <td>0</td>\n",
       "      <td>4</td>\n",
       "    </tr>\n",
       "    <tr>\n",
       "      <th>2013-01-05</th>\n",
       "      <td>1355</td>\n",
       "      <td>0</td>\n",
       "      <td>0</td>\n",
       "      <td>0</td>\n",
       "      <td>5</td>\n",
       "    </tr>\n",
       "  </tbody>\n",
       "</table>\n",
       "</div>"
      ],
      "text/plain": [
       "            transactions  National holiday  Transfer  onpromotion  weekday\n",
       "date                                                                      \n",
       "2013-01-01           770                 8         0            0        1\n",
       "2013-01-02          1038                 0         0            0        2\n",
       "2013-01-03           887                 0         0            0        3\n",
       "2013-01-04          1054                 0         0            0        4\n",
       "2013-01-05          1355                 0         0            0        5"
      ]
     },
     "execution_count": 14,
     "metadata": {},
     "output_type": "execute_result"
    }
   ],
   "source": [
    "store_25.head()"
   ]
  },
  {
   "cell_type": "markdown",
   "metadata": {},
   "source": [
    "## **Split and feature engineering**"
   ]
  },
  {
   "cell_type": "code",
   "execution_count": 15,
   "metadata": {},
   "outputs": [],
   "source": [
    "split_Lagg = SplitLagg(store_25)\n",
    "split_Lagg.transactions_X()\n",
    "X_25 = split_Lagg.lagg_X(lags=4)\n",
    "y_25 = split_Lagg.lagg_y(lags=4)"
   ]
  },
  {
   "cell_type": "code",
   "execution_count": 16,
   "metadata": {},
   "outputs": [
    {
     "name": "stdout",
     "output_type": "stream",
     "text": [
      "<class 'pandas.core.frame.DataFrame'>\n",
      "DatetimeIndex: 1611 entries, 2013-01-05 to 2017-08-15\n",
      "Data columns (total 5 columns):\n",
      " #   Column       Non-Null Count  Dtype  \n",
      "---  ------       --------------  -----  \n",
      " 0   var1 y(t-4)  1611 non-null   float64\n",
      " 1   var1 y(t-3)  1611 non-null   float64\n",
      " 2   var1 y(t-2)  1611 non-null   float64\n",
      " 3   var1 y(t-1)  1611 non-null   float64\n",
      " 4   var1 y(t)    1611 non-null   int64  \n",
      "dtypes: float64(4), int64(1)\n",
      "memory usage: 75.5 KB\n"
     ]
    }
   ],
   "source": [
    "y_25.info()"
   ]
  },
  {
   "cell_type": "code",
   "execution_count": 17,
   "metadata": {},
   "outputs": [
    {
     "name": "stdout",
     "output_type": "stream",
     "text": [
      "<class 'pandas.core.frame.DataFrame'>\n",
      "DatetimeIndex: 1611 entries, 2013-01-05 to 2017-08-15\n",
      "Data columns (total 20 columns):\n",
      " #   Column       Non-Null Count  Dtype  \n",
      "---  ------       --------------  -----  \n",
      " 0   var1 X(t-4)  1611 non-null   Int64  \n",
      " 1   var2 X(t-4)  1611 non-null   float64\n",
      " 2   var3 X(t-4)  1611 non-null   float64\n",
      " 3   var4 X(t-4)  1611 non-null   float64\n",
      " 4   var1 X(t-3)  1611 non-null   Int64  \n",
      " 5   var2 X(t-3)  1611 non-null   float64\n",
      " 6   var3 X(t-3)  1611 non-null   float64\n",
      " 7   var4 X(t-3)  1611 non-null   float64\n",
      " 8   var1 X(t-2)  1611 non-null   Int64  \n",
      " 9   var2 X(t-2)  1611 non-null   float64\n",
      " 10  var3 X(t-2)  1611 non-null   float64\n",
      " 11  var4 X(t-2)  1611 non-null   float64\n",
      " 12  var1 X(t-1)  1611 non-null   Int64  \n",
      " 13  var2 X(t-1)  1611 non-null   float64\n",
      " 14  var3 X(t-1)  1611 non-null   float64\n",
      " 15  var4 X(t-1)  1611 non-null   float64\n",
      " 16  var1 X(t)    1611 non-null   Int64  \n",
      " 17  var2 X(t)    1611 non-null   int32  \n",
      " 18  var3 X(t)    1611 non-null   int64  \n",
      " 19  var4 X(t)    1611 non-null   int32  \n",
      "dtypes: Int64(5), float64(12), int32(2), int64(1)\n",
      "memory usage: 259.6 KB\n"
     ]
    }
   ],
   "source": [
    "X_25.info()"
   ]
  },
  {
   "cell_type": "markdown",
   "metadata": {},
   "source": [
    "### **Split**"
   ]
  },
  {
   "cell_type": "code",
   "execution_count": 18,
   "metadata": {},
   "outputs": [],
   "source": [
    "X25_train,y25_train,X25_test,y25_test,test25_y = split_train_test(X_25,y_25,date=\"2017-07-31\")"
   ]
  },
  {
   "cell_type": "code",
   "execution_count": 19,
   "metadata": {},
   "outputs": [
    {
     "name": "stdout",
     "output_type": "stream",
     "text": [
      "<class 'pandas.core.series.Series'>\n",
      "DatetimeIndex: 15 entries, 2017-08-01 to 2017-08-15\n",
      "Series name: var1 y(t)\n",
      "Non-Null Count  Dtype\n",
      "--------------  -----\n",
      "15 non-null     int64\n",
      "dtypes: int64(1)\n",
      "memory usage: 240.0 bytes\n"
     ]
    }
   ],
   "source": [
    "y25_test.info()"
   ]
  },
  {
   "cell_type": "code",
   "execution_count": 20,
   "metadata": {},
   "outputs": [
    {
     "data": {
      "text/plain": [
       "date\n",
       "2017-08-01     839\n",
       "2017-08-02     982\n",
       "2017-08-03     869\n",
       "2017-08-04    1021\n",
       "2017-08-05    1171\n",
       "2017-08-06     957\n",
       "2017-08-07     899\n",
       "2017-08-08     823\n",
       "2017-08-09    1014\n",
       "2017-08-10    1044\n",
       "2017-08-11    2195\n",
       "2017-08-12    1946\n",
       "2017-08-13    1107\n",
       "2017-08-14     935\n",
       "2017-08-15     849\n",
       "Name: var1 y(t), dtype: int64"
      ]
     },
     "execution_count": 20,
     "metadata": {},
     "output_type": "execute_result"
    }
   ],
   "source": [
    "y25_test"
   ]
  },
  {
   "cell_type": "markdown",
   "metadata": {},
   "source": [
    "## **Predictions**"
   ]
  },
  {
   "cell_type": "code",
   "execution_count": 21,
   "metadata": {},
   "outputs": [],
   "source": [
    "predictions_str25, test25_yPred = recurs_Lin_regr(X25_train,y25_train,X25_test,test25_y)"
   ]
  },
  {
   "cell_type": "code",
   "execution_count": 22,
   "metadata": {},
   "outputs": [
    {
     "data": {
      "text/html": [
       "<div>\n",
       "<style scoped>\n",
       "    .dataframe tbody tr th:only-of-type {\n",
       "        vertical-align: middle;\n",
       "    }\n",
       "\n",
       "    .dataframe tbody tr th {\n",
       "        vertical-align: top;\n",
       "    }\n",
       "\n",
       "    .dataframe thead th {\n",
       "        text-align: right;\n",
       "    }\n",
       "</style>\n",
       "<table border=\"1\" class=\"dataframe\">\n",
       "  <thead>\n",
       "    <tr style=\"text-align: right;\">\n",
       "      <th></th>\n",
       "      <th>var1 y(t-4)</th>\n",
       "      <th>var1 y(t-3)</th>\n",
       "      <th>var1 y(t-2)</th>\n",
       "      <th>var1 y(t-1)</th>\n",
       "    </tr>\n",
       "    <tr>\n",
       "      <th>date</th>\n",
       "      <th></th>\n",
       "      <th></th>\n",
       "      <th></th>\n",
       "      <th></th>\n",
       "    </tr>\n",
       "  </thead>\n",
       "  <tbody>\n",
       "    <tr>\n",
       "      <th>2017-08-04</th>\n",
       "      <td>853.000000</td>\n",
       "      <td>711.965361</td>\n",
       "      <td>864.963848</td>\n",
       "      <td>900.884604</td>\n",
       "    </tr>\n",
       "    <tr>\n",
       "      <th>2017-08-05</th>\n",
       "      <td>711.965361</td>\n",
       "      <td>864.963848</td>\n",
       "      <td>900.884604</td>\n",
       "      <td>1197.358942</td>\n",
       "    </tr>\n",
       "    <tr>\n",
       "      <th>2017-08-06</th>\n",
       "      <td>864.963848</td>\n",
       "      <td>900.884604</td>\n",
       "      <td>1197.358942</td>\n",
       "      <td>1349.936724</td>\n",
       "    </tr>\n",
       "    <tr>\n",
       "      <th>2017-08-07</th>\n",
       "      <td>900.884604</td>\n",
       "      <td>1197.358942</td>\n",
       "      <td>1349.936724</td>\n",
       "      <td>932.382754</td>\n",
       "    </tr>\n",
       "  </tbody>\n",
       "</table>\n",
       "</div>"
      ],
      "text/plain": [
       "            var1 y(t-4)  var1 y(t-3)  var1 y(t-2)  var1 y(t-1)\n",
       "date                                                          \n",
       "2017-08-04   853.000000   711.965361   864.963848   900.884604\n",
       "2017-08-05   711.965361   864.963848   900.884604  1197.358942\n",
       "2017-08-06   864.963848   900.884604  1197.358942  1349.936724\n",
       "2017-08-07   900.884604  1197.358942  1349.936724   932.382754"
      ]
     },
     "execution_count": 22,
     "metadata": {},
     "output_type": "execute_result"
    }
   ],
   "source": [
    "test25_yPred.iloc[3:7]"
   ]
  },
  {
   "cell_type": "code",
   "execution_count": 23,
   "metadata": {},
   "outputs": [
    {
     "data": {
      "text/html": [
       "<div>\n",
       "<style scoped>\n",
       "    .dataframe tbody tr th:only-of-type {\n",
       "        vertical-align: middle;\n",
       "    }\n",
       "\n",
       "    .dataframe tbody tr th {\n",
       "        vertical-align: top;\n",
       "    }\n",
       "\n",
       "    .dataframe thead th {\n",
       "        text-align: right;\n",
       "    }\n",
       "</style>\n",
       "<table border=\"1\" class=\"dataframe\">\n",
       "  <thead>\n",
       "    <tr style=\"text-align: right;\">\n",
       "      <th></th>\n",
       "      <th>var1 y(t-4)</th>\n",
       "      <th>var1 y(t-3)</th>\n",
       "      <th>var1 y(t-2)</th>\n",
       "      <th>var1 y(t-1)</th>\n",
       "    </tr>\n",
       "    <tr>\n",
       "      <th>date</th>\n",
       "      <th></th>\n",
       "      <th></th>\n",
       "      <th></th>\n",
       "      <th></th>\n",
       "    </tr>\n",
       "  </thead>\n",
       "  <tbody>\n",
       "    <tr>\n",
       "      <th>2017-08-04</th>\n",
       "      <td>853.0</td>\n",
       "      <td>839.0</td>\n",
       "      <td>982.0</td>\n",
       "      <td>869.0</td>\n",
       "    </tr>\n",
       "    <tr>\n",
       "      <th>2017-08-05</th>\n",
       "      <td>839.0</td>\n",
       "      <td>982.0</td>\n",
       "      <td>869.0</td>\n",
       "      <td>1021.0</td>\n",
       "    </tr>\n",
       "    <tr>\n",
       "      <th>2017-08-06</th>\n",
       "      <td>982.0</td>\n",
       "      <td>869.0</td>\n",
       "      <td>1021.0</td>\n",
       "      <td>1171.0</td>\n",
       "    </tr>\n",
       "    <tr>\n",
       "      <th>2017-08-07</th>\n",
       "      <td>869.0</td>\n",
       "      <td>1021.0</td>\n",
       "      <td>1171.0</td>\n",
       "      <td>957.0</td>\n",
       "    </tr>\n",
       "  </tbody>\n",
       "</table>\n",
       "</div>"
      ],
      "text/plain": [
       "            var1 y(t-4)  var1 y(t-3)  var1 y(t-2)  var1 y(t-1)\n",
       "date                                                          \n",
       "2017-08-04        853.0        839.0        982.0        869.0\n",
       "2017-08-05        839.0        982.0        869.0       1021.0\n",
       "2017-08-06        982.0        869.0       1021.0       1171.0\n",
       "2017-08-07        869.0       1021.0       1171.0        957.0"
      ]
     },
     "execution_count": 23,
     "metadata": {},
     "output_type": "execute_result"
    }
   ],
   "source": [
    "test25_y.iloc[3:7]"
   ]
  },
  {
   "cell_type": "code",
   "execution_count": 24,
   "metadata": {},
   "outputs": [
    {
     "data": {
      "text/plain": [
       "[711.9653609034192,\n",
       " 864.9638475072493,\n",
       " 900.8846039779635,\n",
       " 1197.3589421989718,\n",
       " 1349.9367235365505,\n",
       " 932.382753807435,\n",
       " 852.6724453101499,\n",
       " 789.4073448568929,\n",
       " 924.7995146246533,\n",
       " 936.534343528132,\n",
       " 1907.3631192732669,\n",
       " 1673.0777067297497,\n",
       " 793.795285461332,\n",
       " 526.1173740805596,\n",
       " 516.7901356544596]"
      ]
     },
     "execution_count": 24,
     "metadata": {},
     "output_type": "execute_result"
    }
   ],
   "source": [
    "predictions_str25"
   ]
  },
  {
   "cell_type": "code",
   "execution_count": 25,
   "metadata": {},
   "outputs": [
    {
     "data": {
      "text/plain": [
       "date\n",
       "2017-08-01     839\n",
       "2017-08-02     982\n",
       "2017-08-03     869\n",
       "2017-08-04    1021\n",
       "2017-08-05    1171\n",
       "2017-08-06     957\n",
       "2017-08-07     899\n",
       "2017-08-08     823\n",
       "2017-08-09    1014\n",
       "2017-08-10    1044\n",
       "2017-08-11    2195\n",
       "2017-08-12    1946\n",
       "2017-08-13    1107\n",
       "2017-08-14     935\n",
       "2017-08-15     849\n",
       "Name: var1 y(t), dtype: int64"
      ]
     },
     "execution_count": 25,
     "metadata": {},
     "output_type": "execute_result"
    }
   ],
   "source": [
    "y25_test"
   ]
  },
  {
   "cell_type": "code",
   "execution_count": 26,
   "metadata": {},
   "outputs": [],
   "source": [
    "test_df25 = transactions_pred(y25_test,predictions_str25)"
   ]
  },
  {
   "cell_type": "code",
   "execution_count": 27,
   "metadata": {},
   "outputs": [
    {
     "name": "stdout",
     "output_type": "stream",
     "text": [
      "<class 'pandas.core.frame.DataFrame'>\n",
      "DatetimeIndex: 15 entries, 2017-08-01 to 2017-08-15\n",
      "Data columns (total 2 columns):\n",
      " #   Column        Non-Null Count  Dtype\n",
      "---  ------        --------------  -----\n",
      " 0   transactions  15 non-null     int64\n",
      " 1   predictions   15 non-null     int32\n",
      "dtypes: int32(1), int64(1)\n",
      "memory usage: 300.0 bytes\n"
     ]
    }
   ],
   "source": [
    "test_df25.info()"
   ]
  },
  {
   "cell_type": "markdown",
   "metadata": {},
   "source": [
    "### **Metrics**"
   ]
  },
  {
   "cell_type": "code",
   "execution_count": 28,
   "metadata": {},
   "outputs": [
    {
     "name": "stdout",
     "output_type": "stream",
     "text": [
      "170.13333333333333 0.23759971006298683\n"
     ]
    }
   ],
   "source": [
    "mae_25 = mae(test_df25[\"transactions\"],test_df25[\"predictions\"])\n",
    "rmsle_25 = rmsle(test_df25[\"transactions\"],test_df25[\"predictions\"])\n",
    "print(mae_25,rmsle_25)"
   ]
  },
  {
   "cell_type": "code",
   "execution_count": 29,
   "metadata": {},
   "outputs": [
    {
     "name": "stdout",
     "output_type": "stream",
     "text": [
      "<class 'pandas.core.frame.DataFrame'>\n",
      "DatetimeIndex: 15 entries, 2017-08-01 to 2017-08-15\n",
      "Data columns (total 2 columns):\n",
      " #   Column        Non-Null Count  Dtype\n",
      "---  ------        --------------  -----\n",
      " 0   transactions  15 non-null     int64\n",
      " 1   predictions   15 non-null     int32\n",
      "dtypes: int32(1), int64(1)\n",
      "memory usage: 300.0 bytes\n"
     ]
    }
   ],
   "source": [
    "test_df25.info()"
   ]
  },
  {
   "cell_type": "code",
   "execution_count": 30,
   "metadata": {},
   "outputs": [
    {
     "data": {
      "text/html": [
       "<div>\n",
       "<style scoped>\n",
       "    .dataframe tbody tr th:only-of-type {\n",
       "        vertical-align: middle;\n",
       "    }\n",
       "\n",
       "    .dataframe tbody tr th {\n",
       "        vertical-align: top;\n",
       "    }\n",
       "\n",
       "    .dataframe thead th {\n",
       "        text-align: right;\n",
       "    }\n",
       "</style>\n",
       "<table border=\"1\" class=\"dataframe\">\n",
       "  <thead>\n",
       "    <tr style=\"text-align: right;\">\n",
       "      <th></th>\n",
       "      <th>transactions</th>\n",
       "      <th>predictions</th>\n",
       "    </tr>\n",
       "    <tr>\n",
       "      <th>date</th>\n",
       "      <th></th>\n",
       "      <th></th>\n",
       "    </tr>\n",
       "  </thead>\n",
       "  <tbody>\n",
       "    <tr>\n",
       "      <th>2017-08-01</th>\n",
       "      <td>839</td>\n",
       "      <td>711</td>\n",
       "    </tr>\n",
       "    <tr>\n",
       "      <th>2017-08-02</th>\n",
       "      <td>982</td>\n",
       "      <td>864</td>\n",
       "    </tr>\n",
       "    <tr>\n",
       "      <th>2017-08-03</th>\n",
       "      <td>869</td>\n",
       "      <td>900</td>\n",
       "    </tr>\n",
       "    <tr>\n",
       "      <th>2017-08-04</th>\n",
       "      <td>1021</td>\n",
       "      <td>1197</td>\n",
       "    </tr>\n",
       "    <tr>\n",
       "      <th>2017-08-05</th>\n",
       "      <td>1171</td>\n",
       "      <td>1349</td>\n",
       "    </tr>\n",
       "    <tr>\n",
       "      <th>2017-08-06</th>\n",
       "      <td>957</td>\n",
       "      <td>932</td>\n",
       "    </tr>\n",
       "    <tr>\n",
       "      <th>2017-08-07</th>\n",
       "      <td>899</td>\n",
       "      <td>852</td>\n",
       "    </tr>\n",
       "    <tr>\n",
       "      <th>2017-08-08</th>\n",
       "      <td>823</td>\n",
       "      <td>789</td>\n",
       "    </tr>\n",
       "    <tr>\n",
       "      <th>2017-08-09</th>\n",
       "      <td>1014</td>\n",
       "      <td>924</td>\n",
       "    </tr>\n",
       "    <tr>\n",
       "      <th>2017-08-10</th>\n",
       "      <td>1044</td>\n",
       "      <td>936</td>\n",
       "    </tr>\n",
       "    <tr>\n",
       "      <th>2017-08-11</th>\n",
       "      <td>2195</td>\n",
       "      <td>1907</td>\n",
       "    </tr>\n",
       "    <tr>\n",
       "      <th>2017-08-12</th>\n",
       "      <td>1946</td>\n",
       "      <td>1673</td>\n",
       "    </tr>\n",
       "    <tr>\n",
       "      <th>2017-08-13</th>\n",
       "      <td>1107</td>\n",
       "      <td>793</td>\n",
       "    </tr>\n",
       "    <tr>\n",
       "      <th>2017-08-14</th>\n",
       "      <td>935</td>\n",
       "      <td>526</td>\n",
       "    </tr>\n",
       "    <tr>\n",
       "      <th>2017-08-15</th>\n",
       "      <td>849</td>\n",
       "      <td>516</td>\n",
       "    </tr>\n",
       "  </tbody>\n",
       "</table>\n",
       "</div>"
      ],
      "text/plain": [
       "            transactions  predictions\n",
       "date                                 \n",
       "2017-08-01           839          711\n",
       "2017-08-02           982          864\n",
       "2017-08-03           869          900\n",
       "2017-08-04          1021         1197\n",
       "2017-08-05          1171         1349\n",
       "2017-08-06           957          932\n",
       "2017-08-07           899          852\n",
       "2017-08-08           823          789\n",
       "2017-08-09          1014          924\n",
       "2017-08-10          1044          936\n",
       "2017-08-11          2195         1907\n",
       "2017-08-12          1946         1673\n",
       "2017-08-13          1107          793\n",
       "2017-08-14           935          526\n",
       "2017-08-15           849          516"
      ]
     },
     "execution_count": 30,
     "metadata": {},
     "output_type": "execute_result"
    }
   ],
   "source": [
    "test_df25"
   ]
  },
  {
   "cell_type": "code",
   "execution_count": 31,
   "metadata": {},
   "outputs": [
    {
     "data": {
      "text/html": [
       "<div>\n",
       "<style scoped>\n",
       "    .dataframe tbody tr th:only-of-type {\n",
       "        vertical-align: middle;\n",
       "    }\n",
       "\n",
       "    .dataframe tbody tr th {\n",
       "        vertical-align: top;\n",
       "    }\n",
       "\n",
       "    .dataframe thead th {\n",
       "        text-align: right;\n",
       "    }\n",
       "</style>\n",
       "<table border=\"1\" class=\"dataframe\">\n",
       "  <thead>\n",
       "    <tr style=\"text-align: right;\">\n",
       "      <th></th>\n",
       "      <th>transactions</th>\n",
       "      <th>predictions</th>\n",
       "      <th>abs error</th>\n",
       "    </tr>\n",
       "    <tr>\n",
       "      <th>date</th>\n",
       "      <th></th>\n",
       "      <th></th>\n",
       "      <th></th>\n",
       "    </tr>\n",
       "  </thead>\n",
       "  <tbody>\n",
       "    <tr>\n",
       "      <th>2017-08-01</th>\n",
       "      <td>839</td>\n",
       "      <td>711</td>\n",
       "      <td>128</td>\n",
       "    </tr>\n",
       "    <tr>\n",
       "      <th>2017-08-02</th>\n",
       "      <td>982</td>\n",
       "      <td>864</td>\n",
       "      <td>118</td>\n",
       "    </tr>\n",
       "    <tr>\n",
       "      <th>2017-08-03</th>\n",
       "      <td>869</td>\n",
       "      <td>900</td>\n",
       "      <td>31</td>\n",
       "    </tr>\n",
       "    <tr>\n",
       "      <th>2017-08-04</th>\n",
       "      <td>1021</td>\n",
       "      <td>1197</td>\n",
       "      <td>176</td>\n",
       "    </tr>\n",
       "    <tr>\n",
       "      <th>2017-08-05</th>\n",
       "      <td>1171</td>\n",
       "      <td>1349</td>\n",
       "      <td>178</td>\n",
       "    </tr>\n",
       "    <tr>\n",
       "      <th>2017-08-06</th>\n",
       "      <td>957</td>\n",
       "      <td>932</td>\n",
       "      <td>25</td>\n",
       "    </tr>\n",
       "    <tr>\n",
       "      <th>2017-08-07</th>\n",
       "      <td>899</td>\n",
       "      <td>852</td>\n",
       "      <td>47</td>\n",
       "    </tr>\n",
       "    <tr>\n",
       "      <th>2017-08-08</th>\n",
       "      <td>823</td>\n",
       "      <td>789</td>\n",
       "      <td>34</td>\n",
       "    </tr>\n",
       "    <tr>\n",
       "      <th>2017-08-09</th>\n",
       "      <td>1014</td>\n",
       "      <td>924</td>\n",
       "      <td>90</td>\n",
       "    </tr>\n",
       "    <tr>\n",
       "      <th>2017-08-10</th>\n",
       "      <td>1044</td>\n",
       "      <td>936</td>\n",
       "      <td>108</td>\n",
       "    </tr>\n",
       "    <tr>\n",
       "      <th>2017-08-11</th>\n",
       "      <td>2195</td>\n",
       "      <td>1907</td>\n",
       "      <td>288</td>\n",
       "    </tr>\n",
       "    <tr>\n",
       "      <th>2017-08-12</th>\n",
       "      <td>1946</td>\n",
       "      <td>1673</td>\n",
       "      <td>273</td>\n",
       "    </tr>\n",
       "    <tr>\n",
       "      <th>2017-08-13</th>\n",
       "      <td>1107</td>\n",
       "      <td>793</td>\n",
       "      <td>314</td>\n",
       "    </tr>\n",
       "    <tr>\n",
       "      <th>2017-08-14</th>\n",
       "      <td>935</td>\n",
       "      <td>526</td>\n",
       "      <td>409</td>\n",
       "    </tr>\n",
       "    <tr>\n",
       "      <th>2017-08-15</th>\n",
       "      <td>849</td>\n",
       "      <td>516</td>\n",
       "      <td>333</td>\n",
       "    </tr>\n",
       "  </tbody>\n",
       "</table>\n",
       "</div>"
      ],
      "text/plain": [
       "            transactions  predictions  abs error\n",
       "date                                            \n",
       "2017-08-01           839          711        128\n",
       "2017-08-02           982          864        118\n",
       "2017-08-03           869          900         31\n",
       "2017-08-04          1021         1197        176\n",
       "2017-08-05          1171         1349        178\n",
       "2017-08-06           957          932         25\n",
       "2017-08-07           899          852         47\n",
       "2017-08-08           823          789         34\n",
       "2017-08-09          1014          924         90\n",
       "2017-08-10          1044          936        108\n",
       "2017-08-11          2195         1907        288\n",
       "2017-08-12          1946         1673        273\n",
       "2017-08-13          1107          793        314\n",
       "2017-08-14           935          526        409\n",
       "2017-08-15           849          516        333"
      ]
     },
     "execution_count": 31,
     "metadata": {},
     "output_type": "execute_result"
    }
   ],
   "source": [
    "test_df25[\"abs error\"] = abs(test_df25[\"transactions\"] - test_df25[\"predictions\"])\n",
    "test_df25"
   ]
  },
  {
   "cell_type": "code",
   "execution_count": 32,
   "metadata": {},
   "outputs": [
    {
     "data": {
      "text/plain": [
       "date\n",
       "2017-08-01    0.027332\n",
       "2017-08-02    0.016353\n",
       "2017-08-03    0.001226\n",
       "2017-08-04    0.025247\n",
       "2017-08-05    0.019992\n",
       "2017-08-06    0.000699\n",
       "2017-08-07    0.002877\n",
       "2017-08-08    0.001776\n",
       "2017-08-09    0.008621\n",
       "2017-08-10    0.011900\n",
       "2017-08-11    0.019763\n",
       "2017-08-12    0.022823\n",
       "2017-08-13    0.111041\n",
       "2017-08-14    0.329953\n",
       "2017-08-15    0.247201\n",
       "Name: lse, dtype: float64"
      ]
     },
     "execution_count": 32,
     "metadata": {},
     "output_type": "execute_result"
    }
   ],
   "source": [
    "test_df25[\"lse\"] = (np.log(test_df25[\"transactions\"]+1) - np.log(test_df25[\"predictions\"]+1)) ** 2\n",
    "test_df25.loc[:,\"lse\"]"
   ]
  },
  {
   "cell_type": "code",
   "execution_count": 33,
   "metadata": {},
   "outputs": [
    {
     "data": {
      "image/png": "[encoded data removed]",
      "text/plain": [
       "<Figure size 1000x500 with 1 Axes>"
      ]
     },
     "metadata": {},
     "output_type": "display_data"
    }
   ],
   "source": [
    "Fig9, ax9 = plt.subplots(figsize=(10, 5))\n",
    "sns.lineplot(x=test_df25.index, y=\"transactions\", data=test_df25, color=\"blue\", ax=ax9, label=\"Real transactions\")\n",
    "sns.lineplot(x=test_df25.index, y=\"predictions\", data=test_df25, color=\"red\", ax=ax9, label=\"Predicted transactions\")\n",
    "ax9.set_title(\"Store 25, real transactions vs predicted transactions\")\n",
    "plt.xticks(rotation=45)\n",
    "Fig9.savefig(\"Store_25_transactions_pred.png\", dpi=300, bbox_inches='tight')\n",
    "plt.show()"
   ]
  },
  {
   "cell_type": "markdown",
   "metadata": {},
   "source": [
    "# **Store 54**"
   ]
  },
  {
   "cell_type": "code",
   "execution_count": 34,
   "metadata": {},
   "outputs": [],
   "source": [
    "store_54 = store_data(54)"
   ]
  },
  {
   "cell_type": "code",
   "execution_count": 35,
   "metadata": {},
   "outputs": [],
   "source": [
    "switch_binom = binom_cat_bool(store_54)\n",
    "list_binom, list_binom_dict = switch_binom.binom_bool()\n",
    "store_df = switch_binom.transform()\n",
    "no_cat_list = [\"not a national event\",\"Not a Nat holiday\",\"Nope\"]\n",
    "for col in store_df.columns:\n",
    "    for no_cat in no_cat_list:\n",
    "        if store_df[col].dtype == 'category' and no_cat in store_df[col].cat.categories:\n",
    "            rename_null_cat(store_df,col,no_cat)\n",
    "multinom_dict_list = []\n",
    "for col in store_df.columns:\n",
    "    if store_df[col].dtype == 'category':\n",
    "        col_encod = my_labelEncoder()\n",
    "        col_encod.fit(store_df,col)\n",
    "        col_dict = col_encod.dict_cat\n",
    "        multinom_dict_list.append(col_dict)\n",
    "        store_df[col] = col_encod.transform(store_df,col)\n",
    "store_Aug, store_df = frame_time_of_interest(store_df,8)\n",
    "split_Lagg = SplitLagg(store_df)\n",
    "split_Lagg.transactions_X()\n",
    "X_df = split_Lagg.lagg_X(lags=4)\n",
    "y_df = split_Lagg.lagg_y(lags=4)\n",
    "X_train,y_train,X_test,y_test,test_y = split_train_test(X_df,y_df,date=\"2017-07-31\")\n",
    "predictions_store, test_yPred = recurs_Lin_regr(X_train,y_train,X_test,test_y)"
   ]
  },
  {
   "cell_type": "code",
   "execution_count": 36,
   "metadata": {},
   "outputs": [],
   "source": [
    "predictions_df = transactions_pred(y_test,predictions_store)"
   ]
  },
  {
   "cell_type": "code",
   "execution_count": 37,
   "metadata": {},
   "outputs": [
    {
     "data": {
      "image/png": "[encoded data removed]",
      "text/plain": [
       "<Figure size 1000x500 with 1 Axes>"
      ]
     },
     "metadata": {},
     "output_type": "display_data"
    }
   ],
   "source": [
    "fig10,ax10 = plt.subplots(figsize=(10, 5))\n",
    "sns.lineplot(x=predictions_df.index, y=\"transactions\", data=predictions_df, color=\"blue\", label=\"Real transactions\", ax=ax10)\n",
    "sns.lineplot(x=predictions_df.index, y=\"predictions\", data=predictions_df, color=\"red\", label=\"Predicted transactions\", ax=ax10)\n",
    "plt.xticks(rotation=45)\n",
    "plt.legend(loc='upper left')\n",
    "ax10.set_title(\"Store 54, real transactions vs predicted transactions\")\n",
    "fig10.savefig(\"Store_54_transactions_pred.png\", dpi=300, bbox_inches='tight')\n",
    "plt.show()"
   ]
  },
  {
   "cell_type": "markdown",
   "metadata": {},
   "source": [
    "# **Generalisation**"
   ]
  },
  {
   "cell_type": "code",
   "execution_count": 38,
   "metadata": {},
   "outputs": [
    {
     "name": "stdout",
     "output_type": "stream",
     "text": [
      "<class 'pandas.core.frame.DataFrame'>\n",
      "RangeIndex: 83488 entries, 0 to 83487\n",
      "Data columns (total 19 columns):\n",
      " #   Column                      Non-Null Count  Dtype         \n",
      "---  ------                      --------------  -----         \n",
      " 0   date                        83488 non-null  datetime64[ns]\n",
      " 1   store_nbr                   83488 non-null  int64         \n",
      " 2   transactions                83488 non-null  int64         \n",
      " 3   National Event              83488 non-null  category      \n",
      " 4   National holiday            83488 non-null  category      \n",
      " 5   National period of holiday  83488 non-null  category      \n",
      " 6   National Workday            83488 non-null  category      \n",
      " 7   city                        83488 non-null  category      \n",
      " 8   state                       83488 non-null  category      \n",
      " 9   type                        83488 non-null  category      \n",
      " 10  cluster                     83488 non-null  int64         \n",
      " 11  Local Holiday               83488 non-null  category      \n",
      " 12  Regional Holiday            83488 non-null  category      \n",
      " 13  Workday                     83488 non-null  category      \n",
      " 14  Transfer                    83488 non-null  category      \n",
      " 15  id                          83488 non-null  int64         \n",
      " 16  sales                       83488 non-null  float64       \n",
      " 17  onpromotion                 83488 non-null  int64         \n",
      " 18  dcoilwtico                  83488 non-null  float64       \n",
      "dtypes: category(11), datetime64[ns](1), float64(2), int64(5)\n",
      "memory usage: 6.0 MB\n"
     ]
    }
   ],
   "source": [
    "with open(\"AngeliqueFile.pkl\", \"rb\") as f:\n",
    "    all_stores = pickle.load(f)\n",
    "\n",
    "all_stores.info()"
   ]
  },
  {
   "cell_type": "code",
   "execution_count": 39,
   "metadata": {},
   "outputs": [
    {
     "data": {
      "text/plain": [
       "[25,\n",
       " 1,\n",
       " 2,\n",
       " 3,\n",
       " 4,\n",
       " 5,\n",
       " 6,\n",
       " 7,\n",
       " 8,\n",
       " 9,\n",
       " 10,\n",
       " 11,\n",
       " 12,\n",
       " 13,\n",
       " 14,\n",
       " 15,\n",
       " 16,\n",
       " 17,\n",
       " 18,\n",
       " 19,\n",
       " 23,\n",
       " 24,\n",
       " 26,\n",
       " 27,\n",
       " 28,\n",
       " 30,\n",
       " 31,\n",
       " 32,\n",
       " 33,\n",
       " 34,\n",
       " 35,\n",
       " 37,\n",
       " 38,\n",
       " 39,\n",
       " 40,\n",
       " 41,\n",
       " 43,\n",
       " 44,\n",
       " 45,\n",
       " 46,\n",
       " 47,\n",
       " 48,\n",
       " 49,\n",
       " 50,\n",
       " 51,\n",
       " 54,\n",
       " 36,\n",
       " 53,\n",
       " 20,\n",
       " 29,\n",
       " 21,\n",
       " 42,\n",
       " 22,\n",
       " 52]"
      ]
     },
     "execution_count": 39,
     "metadata": {},
     "output_type": "execute_result"
    }
   ],
   "source": [
    "stores_list = list(all_stores[\"store_nbr\"].unique())\n",
    "stores_list"
   ]
  },
  {
   "cell_type": "code",
   "execution_count": 40,
   "metadata": {},
   "outputs": [],
   "source": [
    "stores_test = pd.DataFrame(test_df25.index, columns=[\"date\"])"
   ]
  },
  {
   "cell_type": "code",
   "execution_count": 41,
   "metadata": {},
   "outputs": [],
   "source": [
    "#mae_list = []\n",
    "#rmsle_list = []\n",
    "\n",
    "for store in stores_list:\n",
    "    store_dict = {\"date\": test_df25.index, \"Store\": [], \"value\": [], \"prediction\": []}\n",
    "    store_df = store_data(store)\n",
    "    switch_binom = binom_cat_bool(store_df)\n",
    "    list_binom, list_binom_dict = switch_binom.binom_bool()\n",
    "    store_df = switch_binom.transform()\n",
    "    no_cat_list = [\"not a national event\",\"Not a Nat holiday\",\"Nope\"]\n",
    "    for col in store_df.columns:\n",
    "        for no_cat in no_cat_list:\n",
    "            if store_df[col].dtype == 'category' and no_cat in store_df[col].cat.categories:\n",
    "                rename_null_cat(store_df,col,no_cat)\n",
    "    multinom_dict_list = []\n",
    "    for col in store_df.columns:\n",
    "        if store_df[col].dtype == 'category':\n",
    "            col_encod = my_labelEncoder()\n",
    "            col_encod.fit(store_df,col)\n",
    "            col_dict = col_encod.dict_cat\n",
    "            multinom_dict_list.append(col_dict)\n",
    "            store_df[col] = col_encod.transform(store_df,col)\n",
    "    store_Aug, store_df = frame_time_of_interest(store_df,8)\n",
    "    split_Lagg = SplitLagg(store_df)\n",
    "    split_Lagg.transactions_X()\n",
    "    X_df = split_Lagg.lagg_X(lags=4)\n",
    "    y_df = split_Lagg.lagg_y(lags=4)\n",
    "    X_train,y_train,X_test,y_test,test_y = split_train_test(X_df,y_df,date=\"2017-07-31\")\n",
    "    predictions_store, test_yPred = recurs_Lin_regr(X_train,y_train,X_test,test_y)\n",
    "    if \"Store\" not in stores_test.columns:\n",
    "        stores_test[\"Store\"] = [25] * len(y_test)\n",
    "        stores_test[\"value\"] = y_test.values\n",
    "        stores_test[\"prediction\"] = predictions_store\n",
    "    else:\n",
    "        store_dict[\"value\"]= y_test.values\n",
    "        store_dict[\"prediction\"]= predictions_store\n",
    "        store_dict[\"Store\"] = [store] * len(y_test)\n",
    "        store_dict = pd.DataFrame(store_dict)\n",
    "        stores_test = pd.concat([stores_test, store_dict], ignore_index=True, axis=0)\n",
    "\n",
    "\n",
    "    #test_df = transactions_pred(y_test,predictions_store)\n",
    "    #mae_store = mae(test_df[\"transactions\"],test_df[\"predictions\"])\n",
    "    #rmsle_store = rmsle(test_df[\"transactions\"],test_df[\"predictions\"])\n",
    "    #mae_list.append(mae_store)\n",
    "    #rmsle_list.append(rmsle_store)\n"
   ]
  },
  {
   "cell_type": "code",
   "execution_count": 42,
   "metadata": {},
   "outputs": [
    {
     "data": {
      "text/html": [
       "<div>\n",
       "<style scoped>\n",
       "    .dataframe tbody tr th:only-of-type {\n",
       "        vertical-align: middle;\n",
       "    }\n",
       "\n",
       "    .dataframe tbody tr th {\n",
       "        vertical-align: top;\n",
       "    }\n",
       "\n",
       "    .dataframe thead th {\n",
       "        text-align: right;\n",
       "    }\n",
       "</style>\n",
       "<table border=\"1\" class=\"dataframe\">\n",
       "  <thead>\n",
       "    <tr style=\"text-align: right;\">\n",
       "      <th></th>\n",
       "      <th>date</th>\n",
       "      <th>Store</th>\n",
       "      <th>value</th>\n",
       "      <th>prediction</th>\n",
       "    </tr>\n",
       "  </thead>\n",
       "  <tbody>\n",
       "    <tr>\n",
       "      <th>0</th>\n",
       "      <td>2017-08-01</td>\n",
       "      <td>25</td>\n",
       "      <td>839</td>\n",
       "      <td>711.965361</td>\n",
       "    </tr>\n",
       "    <tr>\n",
       "      <th>1</th>\n",
       "      <td>2017-08-02</td>\n",
       "      <td>25</td>\n",
       "      <td>982</td>\n",
       "      <td>864.963848</td>\n",
       "    </tr>\n",
       "    <tr>\n",
       "      <th>2</th>\n",
       "      <td>2017-08-03</td>\n",
       "      <td>25</td>\n",
       "      <td>869</td>\n",
       "      <td>900.884604</td>\n",
       "    </tr>\n",
       "    <tr>\n",
       "      <th>3</th>\n",
       "      <td>2017-08-04</td>\n",
       "      <td>25</td>\n",
       "      <td>1021</td>\n",
       "      <td>1197.358942</td>\n",
       "    </tr>\n",
       "    <tr>\n",
       "      <th>4</th>\n",
       "      <td>2017-08-05</td>\n",
       "      <td>25</td>\n",
       "      <td>1171</td>\n",
       "      <td>1349.936724</td>\n",
       "    </tr>\n",
       "  </tbody>\n",
       "</table>\n",
       "</div>"
      ],
      "text/plain": [
       "        date  Store  value   prediction\n",
       "0 2017-08-01     25    839   711.965361\n",
       "1 2017-08-02     25    982   864.963848\n",
       "2 2017-08-03     25    869   900.884604\n",
       "3 2017-08-04     25   1021  1197.358942\n",
       "4 2017-08-05     25   1171  1349.936724"
      ]
     },
     "execution_count": 42,
     "metadata": {},
     "output_type": "execute_result"
    }
   ],
   "source": [
    "stores_test.head()"
   ]
  },
  {
   "cell_type": "code",
   "execution_count": 43,
   "metadata": {},
   "outputs": [
    {
     "name": "stdout",
     "output_type": "stream",
     "text": [
      "<class 'pandas.core.frame.DataFrame'>\n",
      "RangeIndex: 810 entries, 0 to 809\n",
      "Data columns (total 4 columns):\n",
      " #   Column      Non-Null Count  Dtype         \n",
      "---  ------      --------------  -----         \n",
      " 0   date        810 non-null    datetime64[ns]\n",
      " 1   Store       810 non-null    int64         \n",
      " 2   value       810 non-null    int64         \n",
      " 3   prediction  810 non-null    float64       \n",
      "dtypes: datetime64[ns](1), float64(1), int64(2)\n",
      "memory usage: 25.4 KB\n"
     ]
    }
   ],
   "source": [
    "stores_test.info()"
   ]
  },
  {
   "cell_type": "code",
   "execution_count": 44,
   "metadata": {},
   "outputs": [
    {
     "data": {
      "text/html": [
       "<div>\n",
       "<style scoped>\n",
       "    .dataframe tbody tr th:only-of-type {\n",
       "        vertical-align: middle;\n",
       "    }\n",
       "\n",
       "    .dataframe tbody tr th {\n",
       "        vertical-align: top;\n",
       "    }\n",
       "\n",
       "    .dataframe thead th {\n",
       "        text-align: right;\n",
       "    }\n",
       "</style>\n",
       "<table border=\"1\" class=\"dataframe\">\n",
       "  <thead>\n",
       "    <tr style=\"text-align: right;\">\n",
       "      <th></th>\n",
       "      <th></th>\n",
       "      <th>value</th>\n",
       "      <th>prediction</th>\n",
       "    </tr>\n",
       "    <tr>\n",
       "      <th>date</th>\n",
       "      <th>Store</th>\n",
       "      <th></th>\n",
       "      <th></th>\n",
       "    </tr>\n",
       "  </thead>\n",
       "  <tbody>\n",
       "    <tr>\n",
       "      <th rowspan=\"5\" valign=\"top\">2017-08-01</th>\n",
       "      <th>1</th>\n",
       "      <td>1795</td>\n",
       "      <td>1784.879025</td>\n",
       "    </tr>\n",
       "    <tr>\n",
       "      <th>2</th>\n",
       "      <td>1819</td>\n",
       "      <td>1765.896975</td>\n",
       "    </tr>\n",
       "    <tr>\n",
       "      <th>3</th>\n",
       "      <td>3066</td>\n",
       "      <td>2848.756789</td>\n",
       "    </tr>\n",
       "    <tr>\n",
       "      <th>4</th>\n",
       "      <td>1362</td>\n",
       "      <td>1308.264217</td>\n",
       "    </tr>\n",
       "    <tr>\n",
       "      <th>5</th>\n",
       "      <td>1365</td>\n",
       "      <td>1230.748138</td>\n",
       "    </tr>\n",
       "  </tbody>\n",
       "</table>\n",
       "</div>"
      ],
      "text/plain": [
       "                  value   prediction\n",
       "date       Store                    \n",
       "2017-08-01 1       1795  1784.879025\n",
       "           2       1819  1765.896975\n",
       "           3       3066  2848.756789\n",
       "           4       1362  1308.264217\n",
       "           5       1365  1230.748138"
      ]
     },
     "execution_count": 44,
     "metadata": {},
     "output_type": "execute_result"
    }
   ],
   "source": [
    "stores_test.set_index([\"date\",\"Store\"], inplace=True)\n",
    "stores_test.sort_index(level=[\"date\",\"Store\"], inplace=True)\n",
    "stores_test.head()"
   ]
  },
  {
   "cell_type": "code",
   "execution_count": 45,
   "metadata": {},
   "outputs": [],
   "source": [
    "stores_test[\"prediction\"] = stores_test[\"prediction\"].astype(int)"
   ]
  },
  {
   "cell_type": "code",
   "execution_count": 46,
   "metadata": {},
   "outputs": [
    {
     "name": "stderr",
     "output_type": "stream",
     "text": [
      "c:\\Users\\Angelique\\anaconda3\\envs\\Essai\\Lib\\site-packages\\pandas\\core\\arraylike.py:399: RuntimeWarning: invalid value encountered in log\n",
      "  result = getattr(ufunc, method)(*inputs, **kwargs)\n"
     ]
    }
   ],
   "source": [
    "stores_test[\"sle\"] = (np.log(stores_test[\"prediction\"] + 1) - np.log(stores_test[\"value\"] + 1))**2\n",
    "stores_test[\"abs err\"] = abs(stores_test[\"value\"] - stores_test[\"prediction\"])"
   ]
  },
  {
   "cell_type": "code",
   "execution_count": 47,
   "metadata": {},
   "outputs": [
    {
     "data": {
      "text/html": [
       "<div>\n",
       "<style scoped>\n",
       "    .dataframe tbody tr th:only-of-type {\n",
       "        vertical-align: middle;\n",
       "    }\n",
       "\n",
       "    .dataframe tbody tr th {\n",
       "        vertical-align: top;\n",
       "    }\n",
       "\n",
       "    .dataframe thead th {\n",
       "        text-align: right;\n",
       "    }\n",
       "</style>\n",
       "<table border=\"1\" class=\"dataframe\">\n",
       "  <thead>\n",
       "    <tr style=\"text-align: right;\">\n",
       "      <th></th>\n",
       "      <th>msle</th>\n",
       "      <th>rmsle</th>\n",
       "      <th>sem rmsle</th>\n",
       "      <th>mae</th>\n",
       "      <th>sem mae</th>\n",
       "    </tr>\n",
       "    <tr>\n",
       "      <th>date</th>\n",
       "      <th></th>\n",
       "      <th></th>\n",
       "      <th></th>\n",
       "      <th></th>\n",
       "      <th></th>\n",
       "    </tr>\n",
       "  </thead>\n",
       "  <tbody>\n",
       "    <tr>\n",
       "      <th>2017-08-01</th>\n",
       "      <td>0.010974</td>\n",
       "      <td>0.104755</td>\n",
       "      <td>0.016201</td>\n",
       "      <td>139.833333</td>\n",
       "      <td>15.444288</td>\n",
       "    </tr>\n",
       "    <tr>\n",
       "      <th>2017-08-02</th>\n",
       "      <td>0.008501</td>\n",
       "      <td>0.092201</td>\n",
       "      <td>0.014229</td>\n",
       "      <td>135.685185</td>\n",
       "      <td>18.103318</td>\n",
       "    </tr>\n",
       "    <tr>\n",
       "      <th>2017-08-03</th>\n",
       "      <td>0.003819</td>\n",
       "      <td>0.061797</td>\n",
       "      <td>0.011405</td>\n",
       "      <td>73.518519</td>\n",
       "      <td>11.528434</td>\n",
       "    </tr>\n",
       "    <tr>\n",
       "      <th>2017-08-04</th>\n",
       "      <td>0.003432</td>\n",
       "      <td>0.058584</td>\n",
       "      <td>0.009889</td>\n",
       "      <td>71.518519</td>\n",
       "      <td>9.438600</td>\n",
       "    </tr>\n",
       "    <tr>\n",
       "      <th>2017-08-05</th>\n",
       "      <td>0.004935</td>\n",
       "      <td>0.070248</td>\n",
       "      <td>0.011940</td>\n",
       "      <td>88.240741</td>\n",
       "      <td>7.644757</td>\n",
       "    </tr>\n",
       "    <tr>\n",
       "      <th>2017-08-06</th>\n",
       "      <td>0.012833</td>\n",
       "      <td>0.113285</td>\n",
       "      <td>0.023013</td>\n",
       "      <td>117.074074</td>\n",
       "      <td>13.365210</td>\n",
       "    </tr>\n",
       "    <tr>\n",
       "      <th>2017-08-07</th>\n",
       "      <td>0.005482</td>\n",
       "      <td>0.074042</td>\n",
       "      <td>0.013717</td>\n",
       "      <td>79.537037</td>\n",
       "      <td>9.641104</td>\n",
       "    </tr>\n",
       "    <tr>\n",
       "      <th>2017-08-08</th>\n",
       "      <td>0.008140</td>\n",
       "      <td>0.090219</td>\n",
       "      <td>0.019342</td>\n",
       "      <td>85.944444</td>\n",
       "      <td>12.110065</td>\n",
       "    </tr>\n",
       "    <tr>\n",
       "      <th>2017-08-09</th>\n",
       "      <td>0.009980</td>\n",
       "      <td>0.099901</td>\n",
       "      <td>0.023795</td>\n",
       "      <td>92.425926</td>\n",
       "      <td>12.942290</td>\n",
       "    </tr>\n",
       "    <tr>\n",
       "      <th>2017-08-10</th>\n",
       "      <td>0.035539</td>\n",
       "      <td>0.188517</td>\n",
       "      <td>0.039136</td>\n",
       "      <td>225.722222</td>\n",
       "      <td>34.484650</td>\n",
       "    </tr>\n",
       "    <tr>\n",
       "      <th>2017-08-11</th>\n",
       "      <td>0.024189</td>\n",
       "      <td>0.155529</td>\n",
       "      <td>0.039537</td>\n",
       "      <td>184.907407</td>\n",
       "      <td>23.037163</td>\n",
       "    </tr>\n",
       "    <tr>\n",
       "      <th>2017-08-12</th>\n",
       "      <td>0.018960</td>\n",
       "      <td>0.137697</td>\n",
       "      <td>0.027926</td>\n",
       "      <td>204.111111</td>\n",
       "      <td>30.088568</td>\n",
       "    </tr>\n",
       "    <tr>\n",
       "      <th>2017-08-13</th>\n",
       "      <td>0.162307</td>\n",
       "      <td>0.402873</td>\n",
       "      <td>0.139283</td>\n",
       "      <td>196.944444</td>\n",
       "      <td>24.586325</td>\n",
       "    </tr>\n",
       "    <tr>\n",
       "      <th>2017-08-14</th>\n",
       "      <td>0.026636</td>\n",
       "      <td>0.163204</td>\n",
       "      <td>0.038440</td>\n",
       "      <td>150.333333</td>\n",
       "      <td>26.990228</td>\n",
       "    </tr>\n",
       "    <tr>\n",
       "      <th>2017-08-15</th>\n",
       "      <td>0.012791</td>\n",
       "      <td>0.113096</td>\n",
       "      <td>0.027496</td>\n",
       "      <td>128.740741</td>\n",
       "      <td>30.603483</td>\n",
       "    </tr>\n",
       "  </tbody>\n",
       "</table>\n",
       "</div>"
      ],
      "text/plain": [
       "                msle     rmsle  sem rmsle         mae    sem mae\n",
       "date                                                            \n",
       "2017-08-01  0.010974  0.104755   0.016201  139.833333  15.444288\n",
       "2017-08-02  0.008501  0.092201   0.014229  135.685185  18.103318\n",
       "2017-08-03  0.003819  0.061797   0.011405   73.518519  11.528434\n",
       "2017-08-04  0.003432  0.058584   0.009889   71.518519   9.438600\n",
       "2017-08-05  0.004935  0.070248   0.011940   88.240741   7.644757\n",
       "2017-08-06  0.012833  0.113285   0.023013  117.074074  13.365210\n",
       "2017-08-07  0.005482  0.074042   0.013717   79.537037   9.641104\n",
       "2017-08-08  0.008140  0.090219   0.019342   85.944444  12.110065\n",
       "2017-08-09  0.009980  0.099901   0.023795   92.425926  12.942290\n",
       "2017-08-10  0.035539  0.188517   0.039136  225.722222  34.484650\n",
       "2017-08-11  0.024189  0.155529   0.039537  184.907407  23.037163\n",
       "2017-08-12  0.018960  0.137697   0.027926  204.111111  30.088568\n",
       "2017-08-13  0.162307  0.402873   0.139283  196.944444  24.586325\n",
       "2017-08-14  0.026636  0.163204   0.038440  150.333333  26.990228\n",
       "2017-08-15  0.012791  0.113096   0.027496  128.740741  30.603483"
      ]
     },
     "execution_count": 47,
     "metadata": {},
     "output_type": "execute_result"
    }
   ],
   "source": [
    "metric_dict = {\"msle\":[],\"rmsle\":[], \"sem rmsle\":[], \"mae\":[], \"sem mae\":[]}\n",
    "date_list = stores_test.index.get_level_values(0).unique()\n",
    "for date in date_list:\n",
    "    stores_test_date = stores_test.loc[date]\n",
    "    rmsle_store = np.sqrt(stores_test_date[\"sle\"].mean())\n",
    "    mae_store = stores_test_date[\"abs err\"].mean()\n",
    "    msle_store = stores_test_date[\"sle\"].mean()\n",
    "    sem_rmsle = np.sqrt(stores_test_date[\"sle\"].std()) / np.sqrt(len(stores_test_date))\n",
    "    sem_mae = stores_test_date[\"abs err\"].std() / np.sqrt(len(stores_test_date))\n",
    "    metric_dict[\"rmsle\"].append(rmsle_store)\n",
    "    metric_dict[\"mae\"].append(mae_store)\n",
    "    metric_dict[\"msle\"].append(msle_store)\n",
    "    metric_dict[\"sem rmsle\"].append(sem_rmsle)\n",
    "    metric_dict[\"sem mae\"].append(sem_mae)\n",
    "metrics_per_date = pd.DataFrame(metric_dict, index=date_list)\n",
    "metrics_per_date"
   ]
  },
  {
   "cell_type": "code",
   "execution_count": 48,
   "metadata": {},
   "outputs": [
    {
     "data": {
      "image/png": "[encoded data removed]",
      "text/plain": [
       "<Figure size 1000x500 with 1 Axes>"
      ]
     },
     "metadata": {},
     "output_type": "display_data"
    }
   ],
   "source": [
    "fig11,ax11 = plt.subplots(figsize=(10, 5))\n",
    "sns.lineplot(x=metrics_per_date.index, y=\"rmsle\", data=metrics_per_date, color=\"blue\", label=\"RMSLE\", ax=ax11)\n",
    "ax11.errorbar(x=metrics_per_date.index, y=metrics_per_date[\"rmsle\"], yerr=metrics_per_date[\"sem rmsle\"], color=\"blue\", alpha=0.3, capsize=5)\n",
    "plt.xticks(rotation=45)\n",
    "plt.ylim(0,1)\n",
    "ax11.set_title(\"RMSLE per date for all stores\")\n",
    "fig11.savefig(\"RMSLE_per_date_all_stores.png\", dpi=300, bbox_inches='tight')\n",
    "plt.show()"
   ]
  },
  {
   "cell_type": "code",
   "execution_count": 49,
   "metadata": {},
   "outputs": [
    {
     "data": {
      "text/plain": [
       "count     15.000000\n",
       "mean     131.635802\n",
       "std       51.461401\n",
       "min       71.518519\n",
       "25%       87.092593\n",
       "50%      128.740741\n",
       "75%      167.620370\n",
       "max      225.722222\n",
       "Name: mae, dtype: float64"
      ]
     },
     "execution_count": 49,
     "metadata": {},
     "output_type": "execute_result"
    }
   ],
   "source": [
    "metrics_per_date[\"mae\"].describe()"
   ]
  },
  {
   "cell_type": "markdown",
   "metadata": {},
   "source": [
    "date       |msle\t   |  rmsle\t   | sem rmsle  |  mae   |  sem mae\n",
    "-------    |---------  | --------  |   -----   |  -----  |  ------\n",
    "2017-08-01 |0.010974 |\t0.104755 |\t0.016201 |\t139.833333 |\t15.444288\n",
    "2017-08-02 |\t0.008501 |\t0.092201 |\t0.014229 |\t135.685185 |\t18.103318\n",
    "2017-08-03 |\t0.003819 |\t0.061797 |\t0.011405 |\t73.518519 |\t11.528434\n",
    "2017-08-04 |\t0.003432 |\t0.058584 |\t0.009889 |\t71.518519 |\t9.438600\n",
    "2017-08-05 | \t0.004935 |\t0.070248 |\t0.011940 |\t88.240741 |\t7.644757\n",
    "2017-08-06 |\t0.012833 |\t0.113285 |\t0.023013 |\t117.074074 |\t13.365210\n",
    "2017-08-07 |\t0.005482 |\t0.074042 |\t0.013717 |\t79.537037 |\t9.641104\n",
    "2017-08-08 |\t0.008140 |\t0.090219 |\t0.019342 |\t85.944444 |\t12.110065\n",
    "2017-08-09 |\t0.009980 |\t0.099901 |\t0.023795 |\t92.425926 |\t12.942290\n",
    "2017-08-10 |\t0.035539 |\t0.188517 |\t0.039136 |\t225.722222 |\t34.484650\n",
    "2017-08-11 |\t0.024189 |\t0.155529 |\t0.039537 |\t184.907407 |\t23.037163\n",
    "2017-08-12 |\t0.018960 |\t0.137697 |\t0.027926 |\t204.111111 |\t30.088568\n",
    "2017-08-13 |\t0.162307 |\t0.402873 |\t0.139283 |\t196.944444 |\t24.586325\n",
    "2017-08-14 |\t0.026636 |\t0.163204 |\t0.038440 |\t150.333333 |\t26.990228\n",
    "2017-08-15 |\t0.012791 |\t0.113096 |\t0.027496 |\t128.740741 |\t30.603483\n",
    "\n"
   ]
  },
  {
   "cell_type": "markdown",
   "metadata": {},
   "source": [
    "\n",
    "date       |msle\t   |  rmsle\t   | mae  \n",
    "-------    |---------  | --------  |-----\t\t\t\n",
    "2017-08-01|\t0.010169\t|0.100842\t|130.962963\n",
    "2017-08-02|\t0.008171\t|0.090394\t|112.759259\n",
    "2017-08-03|\t0.007935\t|0.089080\t|111.703704\n",
    "2017-08-04|\t0.007706\t|0.087781\t|112.537037\n",
    "2017-08-05|\t0.013183\t|0.114819\t|171.500000\n",
    "2017-08-06|\t0.019614\t|0.140050\t|181.129630\n",
    "2017-08-07|\t0.005641\t|0.075103\t|96.500000\n",
    "2017-08-08|\t0.007702\t|0.087760\t|114.222222\n",
    "2017-08-09|\t0.010278\t|0.101380\t|104.685185\n",
    "2017-08-10|\t0.035359\t|0.188039\t|260.537037\n",
    "2017-08-11|\t0.019066\t|0.138080\t|231.111111\n",
    "2017-08-12|\t0.009613\t|0.098047\t|145.018519\n",
    "2017-08-13|\t0.016860\t|0.129845\t|134.685185\n",
    "2017-08-14|\t0.055418\t|0.235411\t|143.462963\n",
    "2017-08-15|\t0.013762\t|0.117312\t|124.333333\n"
   ]
  },
  {
   "cell_type": "code",
   "execution_count": 50,
   "metadata": {},
   "outputs": [
    {
     "data": {
      "image/png": "[encoded data removed]",
      "text/plain": [
       "<Figure size 1000x500 with 1 Axes>"
      ]
     },
     "metadata": {},
     "output_type": "display_data"
    }
   ],
   "source": [
    "fig13,ax13 = plt.subplots(figsize=(10, 5))\n",
    "sns.lineplot(x=metrics_per_date.index, y=\"mae\", data=metrics_per_date, color=\"blue\", label=\"MAE\", ax=ax13)\n",
    "ax13.errorbar(x=metrics_per_date.index, y=metrics_per_date[\"mae\"], yerr=metrics_per_date[\"sem mae\"], color=\"blue\", alpha=0.3, capsize=5)\n",
    "sns.lineplot(x=metrics_per_date.index, y=\"abs error\", data=test_df25, color=\"red\", label=\"Abs Err. Store 25\", ax=ax13)\n",
    "ax13.set_title(\"MAE per date for all stores vs Store 25\")\n",
    "plt.xticks(rotation=45)\n",
    "fig13.savefig(\"MAE_per_date_all_stores_vs_Store_25.png\", dpi=300, bbox_inches='tight')\n",
    "plt.show()"
   ]
  },
  {
   "cell_type": "code",
   "execution_count": 51,
   "metadata": {},
   "outputs": [
    {
     "data": {
      "image/png": "[encoded data removed]",
      "text/plain": [
       "<Figure size 500x400 with 1 Axes>"
      ]
     },
     "metadata": {},
     "output_type": "display_data"
    }
   ],
   "source": [
    "fig14,ax14 = plt.subplots(figsize=(5, 4))\n",
    "sns.lineplot(x=metrics_per_date.index, y=\"mae\", data=metrics_per_date, color=\"blue\", label=\"MAE\", ax=ax14)\n",
    "sns.lineplot(x=metrics_per_date.index, y=\"abs error\", data=test_df25, color=\"red\", label=\"Abs Err. Store 25\", ax=ax14)\n",
    "ax14.set_ylim(-25, 1250)\n",
    "ax14.set_title(\"MAE per date for all stores vs Store 25\")\n",
    "plt.xticks(rotation=45)\n",
    "fig14.savefig(\"MAE_vs_Store_25.png\", dpi=300, bbox_inches='tight')\n",
    "plt.show()"
   ]
  },
  {
   "cell_type": "code",
   "execution_count": 52,
   "metadata": {},
   "outputs": [
    {
     "name": "stdout",
     "output_type": "stream",
     "text": [
      "<class 'pandas.core.frame.DataFrame'>\n",
      "DatetimeIndex: 15 entries, 2017-08-01 to 2017-08-15\n",
      "Data columns (total 4 columns):\n",
      " #   Column        Non-Null Count  Dtype  \n",
      "---  ------        --------------  -----  \n",
      " 0   transactions  15 non-null     int64  \n",
      " 1   predictions   15 non-null     int32  \n",
      " 2   abs error     15 non-null     int64  \n",
      " 3   lse           15 non-null     float64\n",
      "dtypes: float64(1), int32(1), int64(2)\n",
      "memory usage: 540.0 bytes\n"
     ]
    }
   ],
   "source": [
    "test_df25.info()"
   ]
  },
  {
   "cell_type": "code",
   "execution_count": 53,
   "metadata": {},
   "outputs": [
    {
     "data": {
      "image/png": "[encoded data removed]",
      "text/plain": [
       "<Figure size 640x480 with 1 Axes>"
      ]
     },
     "metadata": {},
     "output_type": "display_data"
    }
   ],
   "source": [
    "sns.lineplot(x=metrics_per_date.index, y=\"msle\", data=metrics_per_date, color=\"blue\", label=\"MSLE\")\n",
    "sns.lineplot(x=metrics_per_date.index, y=\"lse\", data=test_df25, color=\"red\", label=\"sle of store 25\")\n",
    "plt.ylim(0,1)\n",
    "plt.xticks(rotation=45)\n",
    "plt.show()"
   ]
  },
  {
   "cell_type": "code",
   "execution_count": 54,
   "metadata": {},
   "outputs": [
    {
     "ename": "NameError",
     "evalue": "name 'mae_list' is not defined",
     "output_type": "error",
     "traceback": [
      "\u001b[1;31m---------------------------------------------------------------------------\u001b[0m",
      "\u001b[1;31mNameError\u001b[0m                                 Traceback (most recent call last)",
      "Cell \u001b[1;32mIn[54], line 1\u001b[0m\n\u001b[1;32m----> 1\u001b[0m perform_dict \u001b[38;5;241m=\u001b[39m {\u001b[38;5;124m\"\u001b[39m\u001b[38;5;124mstore_nbr\u001b[39m\u001b[38;5;124m\"\u001b[39m:stores_list, \u001b[38;5;124m\"\u001b[39m\u001b[38;5;124mmae\u001b[39m\u001b[38;5;124m\"\u001b[39m:\u001b[43mmae_list\u001b[49m, \u001b[38;5;124m\"\u001b[39m\u001b[38;5;124mrmsle\u001b[39m\u001b[38;5;124m\"\u001b[39m:rmsle_list}\n\u001b[0;32m      2\u001b[0m store_perform \u001b[38;5;241m=\u001b[39m pd\u001b[38;5;241m.\u001b[39mDataFrame(perform_dict)\n\u001b[0;32m      3\u001b[0m store_perform[\u001b[38;5;124m\"\u001b[39m\u001b[38;5;124mmae\u001b[39m\u001b[38;5;124m\"\u001b[39m]\u001b[38;5;241m.\u001b[39mdescribe()\n",
      "\u001b[1;31mNameError\u001b[0m: name 'mae_list' is not defined"
     ]
    }
   ],
   "source": [
    "perform_dict = {\"store_nbr\":stores_list, \"mae\":mae_list, \"rmsle\":rmsle_list}\n",
    "store_perform = pd.DataFrame(perform_dict)\n",
    "store_perform[\"mae\"].describe()"
   ]
  },
  {
   "cell_type": "code",
   "execution_count": null,
   "metadata": {},
   "outputs": [
    {
     "data": {
      "text/plain": [
       "count    54.000000\n",
       "mean      0.109918\n",
       "std       0.063438\n",
       "min       0.061635\n",
       "25%       0.080031\n",
       "50%       0.095363\n",
       "75%       0.113674\n",
       "max       0.494444\n",
       "Name: rmsle, dtype: float64"
      ]
     },
     "execution_count": 277,
     "metadata": {},
     "output_type": "execute_result"
    }
   ],
   "source": [
    "store_perform[\"rmsle\"].describe()"
   ]
  }
 ],
 "metadata": {
  "kernelspec": {
   "display_name": "Essai",
   "language": "python",
   "name": "python3"
  },
  "language_info": {
   "codemirror_mode": {
    "name": "ipython",
    "version": 3
   },
   "file_extension": ".py",
   "mimetype": "text/x-python",
   "name": "python",
   "nbconvert_exporter": "python",
   "pygments_lexer": "ipython3",
   "version": "3.12.3"
  }
 },
 "nbformat": 4,
 "nbformat_minor": 2
}
